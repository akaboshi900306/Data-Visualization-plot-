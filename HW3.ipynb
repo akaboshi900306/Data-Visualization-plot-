{
 "cells": [
  {
   "cell_type": "code",
   "execution_count": 7,
   "metadata": {},
   "outputs": [],
   "source": [
    "from __future__ import division, print_function, unicode_literals\n",
    "from sklearn.model_selection import train_test_split\n",
    "%matplotlib inline\n",
    "# Import necessary libraries and specify that graphs should be plotted inline. \n",
    "from sklearn import linear_model\n",
    "\n",
    "# Load the Iris data set\n",
    "# See 'ISOM 672_Decision Trees' for a description of this data set\n",
    "import pandas as pd\n",
    "\n",
    "\n",
    "\n",
    "\n",
    "url=\"http://archive.ics.uci.edu/ml/machine-learning-databases/breast-cancer-wisconsin/wdbc.data\"\n",
    "c=pd.read_csv(url,header=None)\n",
    "X = c.iloc[:,2:]\n",
    "y = c.iloc[:,1]\n",
    "X_train, X_test, y_train, y_test = train_test_split(X, y, test_size=0.3, random_state=42, stratify=y)\n"
   ]
  },
  {
   "cell_type": "code",
   "execution_count": 26,
   "metadata": {},
   "outputs": [
    {
     "name": "stdout",
     "output_type": "stream",
     "text": [
      "B    357\n",
      "M    212\n",
      "Name: 1, dtype: int64\n"
     ]
    }
   ],
   "source": [
    "print(c[1].value_counts())"
   ]
  },
  {
   "cell_type": "code",
   "execution_count": 83,
   "metadata": {},
   "outputs": [
    {
     "name": "stdout",
     "output_type": "stream",
     "text": [
      "The weights of the attributes are: [[-7.2  -0.67  0.77  0.02  4.77  0.11  6.55  6.41  2.27 -0.67  0.92 -7.38\n",
      "   1.7   0.14  0.71 -5.18 -3.56  0.8  -0.32 -0.93 -0.32  1.22 -0.15  0.02\n",
      "   6.57 -7.77  4.08  8.97 10.14 -2.15]]\n",
      "Accuracy (out-of-sample): 0.94\n",
      "             precision    recall  f1-score   support\n",
      "\n",
      "          B       0.93      0.98      0.95       107\n",
      "          M       0.97      0.88      0.92        64\n",
      "\n",
      "avg / total       0.94      0.94      0.94       171\n",
      "\n"
     ]
    },
    {
     "data": {
      "text/html": [
       "<div>\n",
       "<style scoped>\n",
       "    .dataframe tbody tr th:only-of-type {\n",
       "        vertical-align: middle;\n",
       "    }\n",
       "\n",
       "    .dataframe tbody tr th {\n",
       "        vertical-align: top;\n",
       "    }\n",
       "\n",
       "    .dataframe thead th {\n",
       "        text-align: right;\n",
       "    }\n",
       "</style>\n",
       "<table border=\"1\" class=\"dataframe\">\n",
       "  <thead>\n",
       "    <tr style=\"text-align: right;\">\n",
       "      <th></th>\n",
       "      <th>Predicted benign</th>\n",
       "      <th>Predicted malignant</th>\n",
       "    </tr>\n",
       "  </thead>\n",
       "  <tbody>\n",
       "    <tr>\n",
       "      <th>Actual benign</th>\n",
       "      <td>105</td>\n",
       "      <td>2</td>\n",
       "    </tr>\n",
       "    <tr>\n",
       "      <th>Actual malignant</th>\n",
       "      <td>8</td>\n",
       "      <td>56</td>\n",
       "    </tr>\n",
       "  </tbody>\n",
       "</table>\n",
       "</div>"
      ],
      "text/plain": [
       "                  Predicted benign  Predicted malignant\n",
       "Actual benign                  105                    2\n",
       "Actual malignant                 8                   56"
      ]
     },
     "execution_count": 83,
     "metadata": {},
     "output_type": "execute_result"
    }
   ],
   "source": [
    "from sklearn.model_selection import train_test_split\n",
    "from sklearn.metrics import accuracy_score, f1_score, classification_report,confusion_matrix\n",
    "from sklearn.linear_model import LogisticRegression\n",
    "# Split validation\n",
    "\n",
    "\n",
    "# We create an instance of the Classifier\n",
    "# Logistic Regression (aka logit, MaxEnt) classifier.\n",
    "clf = linear_model.LogisticRegression(C=1e5,random_state=1)\n",
    "\n",
    "# Train the model (fit the data)\n",
    "# As with other classifiers, DecisionTreeClassifier takes as input two arrays: an array X, sparse or dense, \n",
    "# of size [n_samples, n_features] holding the training samples, and an array Y of integer values, size [n_samples], \n",
    "# holding the class labels for the training samples:\n",
    "clf = clf.fit(X_train, y_train)\n",
    "y_pred = clf.predict(X_test)\n",
    "# The underlying C implementation uses a random number generator to select features when fitting the model.\n",
    "# It is thus not uncommon, to have slightly different results for the same input data. If that happens, try with a\n",
    "# smaller tol parameter.\n",
    "\n",
    "print('The weights of the attributes are:', clf.coef_)\n",
    "print('Accuracy (out-of-sample): %.2f' % accuracy_score(y_test, y_pred))\n",
    "# Build a text report showing the main classification metrics (out-of-sample performance)\n",
    "print(classification_report(y_test, y_pred))\n",
    "from sklearn.metrics import accuracy_score, f1_score, classification_report,confusion_matrix\n",
    "Confusion_Matrix = pd.DataFrame(confusion_matrix(y_test,y_pred),columns=[\"Predicted benign\",\"Predicted malignant\"],index=[\"Actual benign\",\"Actual malignant\"])\n",
    "Confusion_Matrix\n",
    "\n",
    "\n"
   ]
  },
  {
   "cell_type": "code",
   "execution_count": 30,
   "metadata": {},
   "outputs": [],
   "source": [
    "from sklearn.preprocessing import StandardScaler\n",
    "\n",
    "sc = StandardScaler()\n",
    "sc.fit(X_train)\n",
    "X_train_std = sc.transform(X_train)\n",
    "X_test_std = sc.transform(X_test)"
   ]
  },
  {
   "cell_type": "code",
   "execution_count": 19,
   "metadata": {},
   "outputs": [],
   "source": [
    "from sklearn import neighbors, datasets\n",
    "\n",
    "knn = neighbors.KNeighborsClassifier(n_neighbors=3, \n",
    "                           p=2, \n",
    "                           metric='minkowski') #The default metric is minkowski, which is a generalization of the Euclidean distance\n",
    "                                               # with p=2 is equivalent to the standard Euclidean distance.\n",
    "knn = knn.fit(X_train_std, y_train)            # with p=1 is equivalent to the Mahattan distance."
   ]
  },
  {
   "cell_type": "code",
   "execution_count": 34,
   "metadata": {},
   "outputs": [
    {
     "name": "stdout",
     "output_type": "stream",
     "text": [
      "Accuracy (out-of-sample): 0.96\n",
      "Accuracy (in-sample): 0.98\n",
      "F1 score (out-of-sample):  0.9552372760928911\n",
      "F1 score (in-sample)    :  0.9837263186588523\n",
      "Kappa score (out-of-sample):  0.9106382978723404\n",
      "Kappa score (in-sample)    :  0.9674606202648934\n",
      "             precision    recall  f1-score   support\n",
      "\n",
      "          B       0.94      1.00      0.97       107\n",
      "          M       1.00      0.89      0.94        64\n",
      "\n",
      "avg / total       0.96      0.96      0.96       171\n",
      "\n"
     ]
    },
    {
     "data": {
      "text/html": [
       "<div>\n",
       "<style scoped>\n",
       "    .dataframe tbody tr th:only-of-type {\n",
       "        vertical-align: middle;\n",
       "    }\n",
       "\n",
       "    .dataframe tbody tr th {\n",
       "        vertical-align: top;\n",
       "    }\n",
       "\n",
       "    .dataframe thead th {\n",
       "        text-align: right;\n",
       "    }\n",
       "</style>\n",
       "<table border=\"1\" class=\"dataframe\">\n",
       "  <thead>\n",
       "    <tr style=\"text-align: right;\">\n",
       "      <th></th>\n",
       "      <th>Predicted benign</th>\n",
       "      <th>Predicted malignant</th>\n",
       "    </tr>\n",
       "  </thead>\n",
       "  <tbody>\n",
       "    <tr>\n",
       "      <th>Actual benign</th>\n",
       "      <td>107</td>\n",
       "      <td>0</td>\n",
       "    </tr>\n",
       "    <tr>\n",
       "      <th>Actual malignant</th>\n",
       "      <td>7</td>\n",
       "      <td>57</td>\n",
       "    </tr>\n",
       "  </tbody>\n",
       "</table>\n",
       "</div>"
      ],
      "text/plain": [
       "                  Predicted benign  Predicted malignant\n",
       "Actual benign                  107                    0\n",
       "Actual malignant                 7                   57"
      ]
     },
     "execution_count": 34,
     "metadata": {},
     "output_type": "execute_result"
    }
   ],
   "source": [
    "from sklearn.metrics import accuracy_score, f1_score, cohen_kappa_score, classification_report\n",
    "\n",
    "# Estimate the predicted values by applying the kNN algorithm\n",
    "y_pred = knn.predict(X_test_std)\n",
    "y_pred_insample = knn.predict(X_train_std)\n",
    "\n",
    "# Accuracy\n",
    "print('Accuracy (out-of-sample): %.2f' % accuracy_score(y_test, y_pred))\n",
    "print('Accuracy (in-sample): %.2f' % accuracy_score(y_train, y_pred_insample))\n",
    "\n",
    "# F1 score\n",
    "print('F1 score (out-of-sample): ', f1_score(y_test, y_pred, average='macro'))\n",
    "print('F1 score (in-sample)    : ', f1_score(y_train, y_pred_insample, average='macro'))\n",
    "\n",
    "# Kappa score\n",
    "print('Kappa score (out-of-sample): ', cohen_kappa_score(y_test, y_pred))\n",
    "print('Kappa score (in-sample)    : ', cohen_kappa_score(y_train, y_pred_insample))\n",
    "\n",
    "# Build a text report showing the main classification metrics (out-of-sample performance)\n",
    "print(classification_report(y_test, y_pred))\n",
    "from sklearn.metrics import accuracy_score, f1_score, classification_report,confusion_matrix\n",
    "Confusion_Matrix = pd.DataFrame(confusion_matrix(y_test,y_pred),columns=[\"Predicted benign\",\"Predicted malignant\"],index=[\"Actual benign\",\"Actual malignant\"])\n",
    "Confusion_Matrix\n",
    "\n"
   ]
  },
  {
   "cell_type": "markdown",
   "metadata": {},
   "source": [
    "# Decision tree"
   ]
  },
  {
   "cell_type": "code",
   "execution_count": 35,
   "metadata": {},
   "outputs": [
    {
     "name": "stdout",
     "output_type": "stream",
     "text": [
      "Accuracy (out-of-sample): 0.91\n",
      "Accuracy (in-sample): 0.98\n",
      "F1 score (out-of-sample):  0.895636252670125\n",
      "F1 score (in-sample)    :  0.9837263186588523\n",
      "Kappa score (out-of-sample):  0.792412746585736\n",
      "Kappa score (in-sample)    :  0.9674606202648934\n",
      "             precision    recall  f1-score   support\n",
      "\n",
      "          B       0.88      0.98      0.93       107\n",
      "          M       0.96      0.78      0.86        64\n",
      "\n",
      "avg / total       0.91      0.91      0.90       171\n",
      "\n"
     ]
    },
    {
     "data": {
      "text/html": [
       "<div>\n",
       "<style scoped>\n",
       "    .dataframe tbody tr th:only-of-type {\n",
       "        vertical-align: middle;\n",
       "    }\n",
       "\n",
       "    .dataframe tbody tr th {\n",
       "        vertical-align: top;\n",
       "    }\n",
       "\n",
       "    .dataframe thead th {\n",
       "        text-align: right;\n",
       "    }\n",
       "</style>\n",
       "<table border=\"1\" class=\"dataframe\">\n",
       "  <thead>\n",
       "    <tr style=\"text-align: right;\">\n",
       "      <th></th>\n",
       "      <th>Predicted benign</th>\n",
       "      <th>Predicted malignant</th>\n",
       "    </tr>\n",
       "  </thead>\n",
       "  <tbody>\n",
       "    <tr>\n",
       "      <th>Actual benign</th>\n",
       "      <td>105</td>\n",
       "      <td>2</td>\n",
       "    </tr>\n",
       "    <tr>\n",
       "      <th>Actual malignant</th>\n",
       "      <td>14</td>\n",
       "      <td>50</td>\n",
       "    </tr>\n",
       "  </tbody>\n",
       "</table>\n",
       "</div>"
      ],
      "text/plain": [
       "                  Predicted benign  Predicted malignant\n",
       "Actual benign                  105                    2\n",
       "Actual malignant                14                   50"
      ]
     },
     "execution_count": 35,
     "metadata": {},
     "output_type": "execute_result"
    }
   ],
   "source": [
    "import numpy as np\n",
    "from sklearn.tree import DecisionTreeClassifier\n",
    "tree_clf = DecisionTreeClassifier(max_leaf_nodes=10,max_depth=6, random_state=42)\n",
    "y_pred = tree_clf.fit(X_train, y_train).predict(X_test)\n",
    "cnf_matrix = confusion_matrix(y_test, y_pred)\n",
    "\n",
    "print('Accuracy (out-of-sample): %.2f' % accuracy_score(y_test, y_pred))\n",
    "print('Accuracy (in-sample): %.2f' % accuracy_score(y_train, y_pred_insample))\n",
    "\n",
    "# F1 score\n",
    "print('F1 score (out-of-sample): ', f1_score(y_test, y_pred, average='macro'))\n",
    "print('F1 score (in-sample)    : ', f1_score(y_train, y_pred_insample, average='macro'))\n",
    "\n",
    "# Kappa score\n",
    "print('Kappa score (out-of-sample): ', cohen_kappa_score(y_test, y_pred))\n",
    "print('Kappa score (in-sample)    : ', cohen_kappa_score(y_train, y_pred_insample))\n",
    "\n",
    "# Build a text report showing the main classification metrics (out-of-sample performance)\n",
    "print(classification_report(y_test, y_pred))\n",
    "from sklearn.metrics import accuracy_score, f1_score, classification_report,confusion_matrix\n",
    "Confusion_Matrix = pd.DataFrame(confusion_matrix(y_test,y_pred),columns=[\"Predicted benign\",\"Predicted malignant\"],index=[\"Actual benign\",\"Actual malignant\"])\n",
    "Confusion_Matrix\n"
   ]
  },
  {
   "cell_type": "markdown",
   "metadata": {},
   "source": [
    "# 2 Grid Research"
   ]
  },
  {
   "cell_type": "markdown",
   "metadata": {},
   "source": [
    "# Decision tree"
   ]
  },
  {
   "cell_type": "code",
   "execution_count": 11,
   "metadata": {},
   "outputs": [
    {
     "name": "stdout",
     "output_type": "stream",
     "text": [
      "{'criterion': 'gini', 'max_depth': 5, 'max_features': 3, 'min_samples_leaf': 4, 'min_samples_split': 2}\n",
      "Tree parameters: \n",
      " DecisionTreeClassifier(class_weight=None, criterion='gini', max_depth=5,\n",
      "            max_features=3, max_leaf_nodes=None, min_impurity_decrease=0.0,\n",
      "            min_impurity_split=None, min_samples_leaf=4,\n",
      "            min_samples_split=2, min_weight_fraction_leaf=0.0,\n",
      "            presort=False, random_state=42, splitter='best')\n",
      "Best score:  0.9623115577889447\n",
      "Training score:  0.9698492462311558\n",
      "Test accuracy:  0.9298245614035088\n"
     ]
    },
    {
     "ename": "NameError",
     "evalue": "name 'classification_report' is not defined",
     "output_type": "error",
     "traceback": [
      "\u001b[1;31m---------------------------------------------------------------------------\u001b[0m",
      "\u001b[1;31mNameError\u001b[0m                                 Traceback (most recent call last)",
      "\u001b[1;32m<ipython-input-11-24859365f66a>\u001b[0m in \u001b[0;36m<module>\u001b[1;34m()\u001b[0m\n\u001b[0;32m     30\u001b[0m \u001b[1;31m## The overall accuracy on the test set:\u001b[0m\u001b[1;33m\u001b[0m\u001b[1;33m\u001b[0m\u001b[0m\n\u001b[0;32m     31\u001b[0m \u001b[0mprint\u001b[0m\u001b[1;33m(\u001b[0m\u001b[1;34m\"Test accuracy: \"\u001b[0m\u001b[1;33m,\u001b[0m \u001b[0mgstree\u001b[0m\u001b[1;33m.\u001b[0m\u001b[0mscore\u001b[0m\u001b[1;33m(\u001b[0m\u001b[0mX_test\u001b[0m\u001b[1;33m,\u001b[0m \u001b[0my_test\u001b[0m\u001b[1;33m)\u001b[0m\u001b[1;33m)\u001b[0m\u001b[1;33m\u001b[0m\u001b[0m\n\u001b[1;32m---> 32\u001b[1;33m \u001b[0mprint\u001b[0m\u001b[1;33m(\u001b[0m\u001b[0mclassification_report\u001b[0m\u001b[1;33m(\u001b[0m\u001b[0my_test\u001b[0m\u001b[1;33m,\u001b[0m \u001b[0my_pred_tree\u001b[0m\u001b[1;33m)\u001b[0m\u001b[1;33m)\u001b[0m\u001b[1;33m\u001b[0m\u001b[0m\n\u001b[0m\u001b[0;32m     33\u001b[0m \u001b[1;32mfrom\u001b[0m \u001b[0msklearn\u001b[0m\u001b[1;33m.\u001b[0m\u001b[0mmetrics\u001b[0m \u001b[1;32mimport\u001b[0m \u001b[0maccuracy_score\u001b[0m\u001b[1;33m,\u001b[0m \u001b[0mf1_score\u001b[0m\u001b[1;33m,\u001b[0m \u001b[0mclassification_report\u001b[0m\u001b[1;33m,\u001b[0m\u001b[0mconfusion_matrix\u001b[0m\u001b[1;33m\u001b[0m\u001b[0m\n\u001b[0;32m     34\u001b[0m \u001b[0mConfusion_Matrix\u001b[0m \u001b[1;33m=\u001b[0m \u001b[0mpd\u001b[0m\u001b[1;33m.\u001b[0m\u001b[0mDataFrame\u001b[0m\u001b[1;33m(\u001b[0m\u001b[0mconfusion_matrix\u001b[0m\u001b[1;33m(\u001b[0m\u001b[0my_test\u001b[0m\u001b[1;33m,\u001b[0m\u001b[0my_pred_tree\u001b[0m\u001b[1;33m)\u001b[0m\u001b[1;33m,\u001b[0m\u001b[0mcolumns\u001b[0m\u001b[1;33m=\u001b[0m\u001b[1;33m[\u001b[0m\u001b[1;34m\"Predicted benign\"\u001b[0m\u001b[1;33m,\u001b[0m\u001b[1;34m\"Predicted malignant\"\u001b[0m\u001b[1;33m]\u001b[0m\u001b[1;33m,\u001b[0m\u001b[0mindex\u001b[0m\u001b[1;33m=\u001b[0m\u001b[1;33m[\u001b[0m\u001b[1;34m\"Actual benign\"\u001b[0m\u001b[1;33m,\u001b[0m\u001b[1;34m\"Actual malignant\"\u001b[0m\u001b[1;33m]\u001b[0m\u001b[1;33m)\u001b[0m\u001b[1;33m\u001b[0m\u001b[0m\n",
      "\u001b[1;31mNameError\u001b[0m: name 'classification_report' is not defined"
     ]
    }
   ],
   "source": [
    "from sklearn import tree\n",
    "import sklearn.grid_search as gs\n",
    "from sklearn.tree import DecisionTreeClassifier \n",
    "\n",
    "gstree = gs.GridSearchCV(estimator=DecisionTreeClassifier(random_state=42),\n",
    "                                   param_grid= [{\"criterion\": [\"gini\", \"entropy\"],\n",
    "                                                 'max_depth': [1, 2, 3, 4, 5, 6, 7, 8, 9, 10, 20, 30, 40, 50],\n",
    "                                                 \"max_features\": list(range(1, 11)),\n",
    "                                                 'min_samples_leaf':[1,2,3,4,5],\n",
    "                                                 'min_samples_split':[2,3,4,5]\n",
    "                                                }],\n",
    "                                   cv = 10,\n",
    "                                   n_jobs = 4,\n",
    "                                   scoring='accuracy')\n",
    "gstree_fit = gstree.fit(X_train, y_train)\n",
    "y_pred_tree = gstree_fit.predict(X_test)\n",
    "\n",
    "## best parameter\n",
    "print(gstree.best_params_)\n",
    "\n",
    "## best estimator\n",
    "print(\"Tree parameters: \\n\", gstree_fit.best_estimator_)\n",
    "\n",
    "## best score\n",
    "print(\"Best score: \", gstree.best_score_)\n",
    "\n",
    "## The overall accuracy on the training set:\n",
    "print(\"Training score: \", gstree.score(X_train, y_train))\n",
    "\n",
    "## The overall accuracy on the test set:\n",
    "print(\"Test accuracy: \", gstree.score(X_test, y_test))\n",
    "print(classification_report(y_test, y_pred_tree))\n",
    "from sklearn.metrics import accuracy_score, f1_score, classification_report,confusion_matrix\n",
    "Confusion_Matrix = pd.DataFrame(confusion_matrix(y_test,y_pred_tree),columns=[\"Predicted benign\",\"Predicted malignant\"],index=[\"Actual benign\",\"Actual malignant\"])\n",
    "Confusion_Matrix"
   ]
  },
  {
   "cell_type": "code",
   "execution_count": 10,
   "metadata": {},
   "outputs": [
    {
     "name": "stdout",
     "output_type": "stream",
     "text": [
      "{'criterion': 'gini', 'max_depth': 5, 'max_features': 3, 'min_samples_leaf': 4, 'min_samples_split': 2}\n",
      "Tree parameters: \n",
      " DecisionTreeClassifier(class_weight=None, criterion='gini', max_depth=5,\n",
      "            max_features=3, max_leaf_nodes=None, min_impurity_decrease=0.0,\n",
      "            min_impurity_split=None, min_samples_leaf=4,\n",
      "            min_samples_split=2, min_weight_fraction_leaf=0.0,\n",
      "            presort=False, random_state=42, splitter='best')\n",
      "Best score:  0.9623115577889447\n",
      "Training score:  0.9698492462311558\n",
      "Test accuracy:  0.9298245614035088\n"
     ]
    }
   ],
   "source": [
    "gstree_bestfit = gstree.best_estimator_.fit(X_train, y_train)\n",
    "y_pred_besttree = gstree_bestfit.predict(X_test)\n",
    "\n",
    "## best parameter\n",
    "print(gstree.best_params_)\n",
    "\n",
    "## best estimator\n",
    "print(\"Tree parameters: \\n\", gstree_fit.best_estimator_)\n",
    "\n",
    "## best score\n",
    "print(\"Best score: \", gstree.best_score_)\n",
    "\n",
    "## The overall accuracy on the training set:\n",
    "print(\"Training score: \", gstree.score(X_train, y_train))\n",
    "\n",
    "## The overall accuracy on the test set:\n",
    "print(\"Test accuracy: \", gstree.score(X_test, y_test))"
   ]
  },
  {
   "cell_type": "code",
   "execution_count": 60,
   "metadata": {},
   "outputs": [
    {
     "name": "stdout",
     "output_type": "stream",
     "text": [
      "CV accuracy: 0.962 +/- 0.032\n"
     ]
    }
   ],
   "source": [
    "from sklearn.tree import DecisionTreeClassifier\n",
    "from sklearn.model_selection import GridSearchCV #http://scikit-learn.org/stable/modules/generated/sklearn.model_selection.GridSearchCV.html\n",
    "from sklearn.linear_model import LogisticRegression \n",
    "from sklearn import neighbors, datasets\n",
    "from sklearn.model_selection import cross_val_score\n",
    "\n",
    "np.random.seed(42)\n",
    "\n",
    "regressor=DecisionTreeClassifier(class_weight=None, criterion='gini', max_depth=5,\n",
    "            max_features=3, max_leaf_nodes=None, min_impurity_decrease=0.0,\n",
    "            min_impurity_split=None, min_samples_leaf=4,\n",
    "            min_samples_split=2, min_weight_fraction_leaf=0.0,\n",
    "            presort=False, random_state=42, splitter='best')\n",
    "\n",
    "# The classifier is optimized by “nested” cross-validation using the GridSearchCV object.\n",
    "\n",
    "# The performance of the selected parameters is evaluated using cross-validation \n",
    "# (different than the nested cross-validation that is used to select the best classifier).\n",
    "\n",
    "scores=cross_val_score(regressor, X_train, y_train, \n",
    "                         scoring='accuracy', cv=10)\n",
    "print('CV accuracy: %.3f +/- %.3f' % (np.mean(scores),\n",
    "                                      np.std(scores)))\n"
   ]
  },
  {
   "cell_type": "code",
   "execution_count": 61,
   "metadata": {},
   "outputs": [
    {
     "data": {
      "image/png": "[encoded data removed]",
      "text/plain": [
       "<Figure size 432x288 with 1 Axes>"
      ]
     },
     "metadata": {},
     "output_type": "display_data"
    }
   ],
   "source": [
    "# from sklearn.model_selection import validation_curve\n",
    "# Split validation\n",
    "from sklearn.model_selection import train_test_split\n",
    "# Class for Logistic Regression classifier\n",
    "from sklearn.linear_model import LogisticRegression\n",
    "import matplotlib.pyplot as plt\n",
    "\n",
    "np.random.seed(42) #the seed used by the random number generator for np\n",
    "\n",
    "# Specify possible parameter values for C.\n",
    "# Parameter C: Inverse of regularization strength; \n",
    "# C must be a positive float; smaller values specify stronger regularization.\n",
    "param_range = [1, 2, 3, 4, 5, 6, 7, 8, 9, 10, 20, 30, 40, 50]\n",
    "\n",
    "# Compute scores for an estimator with different values of a specified parameter. \n",
    "# This is similar to grid search with one parameter. \n",
    "# However, this will also compute training scores and is merely a utility for plotting the results.\n",
    "\n",
    "# Determine training and test scores for varying parameter values.\n",
    "train_scores, test_scores = validation_curve( \n",
    "                estimator=DecisionTreeClassifier(class_weight=None, criterion='gini',\n",
    "            max_features=3, max_leaf_nodes=None, min_impurity_decrease=0.0,\n",
    "            min_impurity_split=None, min_samples_leaf=4,\n",
    "            min_samples_split=2, min_weight_fraction_leaf=0.0,\n",
    "            presort=False, random_state=42, splitter='best'), #Build Logistic Regression Models\n",
    "                X=X_train, \n",
    "                y=y_train, \n",
    "                param_name=\"max_depth\", # parameter C: Inverse of regularization strength; must be a positive float. Smaller values of paramter C specify stronger regularization.\n",
    "                param_range=param_range,\n",
    "                cv=10,     #10-fold cross-validation\n",
    "                scoring=\"accuracy\", \n",
    "                n_jobs=4) # Number of CPU cores used when parallelizing over classes if multi_class=’ovr’”. This parameter is ignored when the ``solver``is set to ‘liblinear’ regardless of whether ‘multi_class’ is specified or not. If given a value of -1, all cores are used.\n",
    "\n",
    "\n",
    "# Cross validation statistics for training and testing data (mean and standard deviation)\n",
    "train_mean = np.mean(train_scores, axis=1) # Compute the arithmetic mean along the specified axis.\n",
    "train_std = np.std(train_scores, axis=1)   # Compute the standard deviation along the specified axis.\n",
    "test_mean = np.mean(test_scores, axis=1)\n",
    "test_std = np.std(test_scores, axis=1)\n",
    "\n",
    "# Plot train accuracy means of cross-validation for all the parameters C in param_range\n",
    "plt.plot(param_range, train_mean, \n",
    "         color='blue', marker='o', \n",
    "         markersize=5, label='training accuracy')\n",
    "\n",
    "# Fill the area around the line to indicate the size of standard deviations of performance for the training data\n",
    "plt.fill_between(param_range, train_mean + train_std,\n",
    "                 train_mean - train_std, alpha=0.15,\n",
    "                 color='blue')\n",
    "\n",
    "# Plot test accuracy means of cross-validation for all the parameters C in param_range\n",
    "plt.plot(param_range, test_mean, \n",
    "         color='green', linestyle='--', \n",
    "         marker='s', markersize=5, \n",
    "         label='validation accuracy')\n",
    "\n",
    "# Fill the area around the line to indicate the size of standard deviations of performance for the test data\n",
    "plt.fill_between(param_range, \n",
    "                 test_mean + test_std,\n",
    "                 test_mean - test_std, \n",
    "                 alpha=0.15, color='green')\n",
    "\n",
    "# Grid and Axes Titles\n",
    "plt.grid()\n",
    "plt.xscale('log')\n",
    "plt.legend(loc='lower right')\n",
    "plt.xlabel('max_depth')\n",
    "plt.ylabel('Accuracy')\n",
    "plt.ylim([0.7, 1.0]) # y limits in the plot\n",
    "plt.tight_layout()\n",
    "# plt.savefig('Fitting_graph_LR.png', dpi=300)\n",
    "plt.show()  "
   ]
  },
  {
   "cell_type": "markdown",
   "metadata": {},
   "source": [
    "# KNN"
   ]
  },
  {
   "cell_type": "code",
   "execution_count": 63,
   "metadata": {},
   "outputs": [
    {
     "name": "stdout",
     "output_type": "stream",
     "text": [
      "{'n_neighbors': 9, 'weights': 'uniform'}\n",
      "KNN parameters: \n",
      " KNeighborsClassifier(algorithm='auto', leaf_size=30, metric='minkowski',\n",
      "           metric_params=None, n_jobs=1, n_neighbors=9, p=2,\n",
      "           weights='uniform')\n",
      "Best score:  0.9673366834170855\n",
      "Training score:  0.9698492462311558\n",
      "Test accuracy:  0.9532163742690059\n",
      "             precision    recall  f1-score   support\n",
      "\n",
      "          B       0.94      0.99      0.96       107\n",
      "          M       0.98      0.89      0.93        64\n",
      "\n",
      "avg / total       0.95      0.95      0.95       171\n",
      "\n"
     ]
    },
    {
     "data": {
      "text/html": [
       "<div>\n",
       "<style scoped>\n",
       "    .dataframe tbody tr th:only-of-type {\n",
       "        vertical-align: middle;\n",
       "    }\n",
       "\n",
       "    .dataframe tbody tr th {\n",
       "        vertical-align: top;\n",
       "    }\n",
       "\n",
       "    .dataframe thead th {\n",
       "        text-align: right;\n",
       "    }\n",
       "</style>\n",
       "<table border=\"1\" class=\"dataframe\">\n",
       "  <thead>\n",
       "    <tr style=\"text-align: right;\">\n",
       "      <th></th>\n",
       "      <th>Predicted benign</th>\n",
       "      <th>Predicted malignant</th>\n",
       "    </tr>\n",
       "  </thead>\n",
       "  <tbody>\n",
       "    <tr>\n",
       "      <th>Actual benign</th>\n",
       "      <td>106</td>\n",
       "      <td>1</td>\n",
       "    </tr>\n",
       "    <tr>\n",
       "      <th>Actual malignant</th>\n",
       "      <td>7</td>\n",
       "      <td>57</td>\n",
       "    </tr>\n",
       "  </tbody>\n",
       "</table>\n",
       "</div>"
      ],
      "text/plain": [
       "                  Predicted benign  Predicted malignant\n",
       "Actual benign                  106                    1\n",
       "Actual malignant                 7                   57"
      ]
     },
     "execution_count": 63,
     "metadata": {},
     "output_type": "execute_result"
    }
   ],
   "source": [
    "from sklearn import neighbors, datasets\n",
    "from sklearn.model_selection import GridSearchCV \n",
    "\n",
    "gsknn = GridSearchCV(estimator=neighbors.KNeighborsClassifier(p=2, \n",
    "                           metric='minkowski'),\n",
    "                  param_grid=[{'n_neighbors': [1,3,5,7,9,11,13,15,17,19,21],\n",
    "                               'weights':['uniform','distance']}],\n",
    "                  scoring='accuracy',\n",
    "                  cv=10,\n",
    "                  n_jobs=4)\n",
    "\n",
    "gsknn_fit = gsknn.fit(X_train_std, y_train)          \n",
    "y_pred_knn = gsknn_fit.predict(X_test_std)\n",
    "\n",
    "## best parameter\n",
    "print(gsknn.best_params_)\n",
    "\n",
    "## best estimator\n",
    "print(\"KNN parameters: \\n\", gsknn_fit.best_estimator_)\n",
    "\n",
    "## best score\n",
    "print(\"Best score: \", gsknn.best_score_)\n",
    "\n",
    "## The overall accuracy on the training set:\n",
    "print(\"Training score: \", gsknn.score(X_train_std, y_train))\n",
    "\n",
    "## The overall accuracy on the test set:\n",
    "print(\"Test accuracy: \", gsknn.score(X_test_std, y_test))\n",
    "print(classification_report(y_test, y_pred_knn))\n",
    "from sklearn.metrics import accuracy_score, f1_score, classification_report,confusion_matrix\n",
    "Confusion_Matrix = pd.DataFrame(confusion_matrix(y_test,y_pred_knn),columns=[\"Predicted benign\",\"Predicted malignant\"],index=[\"Actual benign\",\"Actual malignant\"])\n",
    "Confusion_Matrix"
   ]
  },
  {
   "cell_type": "code",
   "execution_count": 47,
   "metadata": {
    "scrolled": true
   },
   "outputs": [
    {
     "name": "stdout",
     "output_type": "stream",
     "text": [
      "CV accuracy: 0.962 +/- 0.031\n"
     ]
    }
   ],
   "source": [
    "scores=cross_val_score(gsknn, X_train_std, y_train, \n",
    "                         scoring='accuracy', cv=10)\n",
    "print('CV accuracy: %.3f +/- %.3f' % (np.mean(scores),\n",
    "                                      np.std(scores)))"
   ]
  },
  {
   "cell_type": "markdown",
   "metadata": {},
   "source": [
    "# Logistic Regression"
   ]
  },
  {
   "cell_type": "code",
   "execution_count": 65,
   "metadata": {},
   "outputs": [
    {
     "name": "stdout",
     "output_type": "stream",
     "text": [
      "{'C': 1000000, 'penalty': 'l1'}\n",
      "Logistic parameters: \n",
      " LogisticRegression(C=1000000, class_weight=None, dual=False,\n",
      "          fit_intercept=True, intercept_scaling=1, max_iter=100,\n",
      "          multi_class='ovr', n_jobs=1, penalty='l1', random_state=0,\n",
      "          solver='liblinear', tol=0.0001, verbose=0, warm_start=False)\n",
      "Best score:  0.9673366834170855\n",
      "Training score:  0.9949748743718593\n",
      "Test accuracy:  0.9590643274853801\n"
     ]
    }
   ],
   "source": [
    "from sklearn.linear_model import LogisticRegression \n",
    "\n",
    "gslr = GridSearchCV(estimator=LogisticRegression(random_state=0),\n",
    "                  param_grid=[{'C': [ 0.00001, 0.0001, 0.001, 0.01, 0.1 ,1 ,10 ,100, 1000, 10000, 100000, 1000000, 10000000],\n",
    "                             'penalty':['l1','l2']}],\n",
    "                  scoring='accuracy',\n",
    "                  cv=10)\n",
    "\n",
    "gslr_fit = gslr.fit(X_train, y_train)          \n",
    "y_pred_lr = gslr_fit.predict(X_test)\n",
    "\n",
    "## best parameter\n",
    "print(gslr.best_params_)\n",
    "\n",
    "## best estimator\n",
    "print(\"Logistic parameters: \\n\", gslr_fit.best_estimator_)\n",
    "\n",
    "## best score\n",
    "print(\"Best score: \", gslr.best_score_)\n",
    "\n",
    "## The overall accuracy on the training set:\n",
    "print(\"Training score: \", gslr.score(X_train, y_train))\n",
    "\n",
    "## The overall accuracy on the test set:\n",
    "print(\"Test accuracy: \", gslr.score(X_test, y_test))"
   ]
  },
  {
   "cell_type": "code",
   "execution_count": 88,
   "metadata": {},
   "outputs": [
    {
     "name": "stdout",
     "output_type": "stream",
     "text": [
      "CV accuracy: 0.955 +/- 0.033\n"
     ]
    }
   ],
   "source": [
    "scores=cross_val_score(gslr, X_train, y_train, \n",
    "                         scoring='accuracy', cv=10)\n",
    "print('CV accuracy: %.3f +/- %.3f' % (np.mean(scores),\n",
    "                                      np.std(scores)))"
   ]
  },
  {
   "cell_type": "code",
   "execution_count": 56,
   "metadata": {},
   "outputs": [],
   "source": [
    "from __future__ import division, print_function, unicode_literals\n",
    "\n",
    "%matplotlib inline\n",
    "# Import necessary libraries and specify that graphs should be plotted inline. \n",
    "\n",
    "from sklearn import linear_model # The sklearn.linear_model module implements generalized linear models\n",
    "import numpy as np # NumPy is the package for scientific computing with Python\n",
    "\n",
    "\n",
    "\n",
    "def plot_learning_curve(estimator, title, X, y, ylim=None, cv=None,\n",
    "                        n_jobs=1, train_sizes=np.linspace(.1, 1.0, 5)):\n",
    "    \"\"\"\n",
    "    Generate a simple plot of the test and training learning curve.\n",
    "\n",
    "    Parameters\n",
    "    ----------\n",
    "    estimator : object type that implements the \"fit\" and \"predict\" methods\n",
    "        An object of that type which is cloned for each validation.\n",
    "\n",
    "    title : string\n",
    "        Title for the chart.\n",
    "\n",
    "    X : array-like, shape (n_samples, n_features)\n",
    "        Training vector, where n_samples is the number of samples and\n",
    "        n_features is the number of features.\n",
    "\n",
    "    y : array-like, shape (n_samples) or (n_samples, n_features), optional\n",
    "        Target relative to X for classification or regression;\n",
    "        None for unsupervised learning.\n",
    "\n",
    "    ylim : tuple, shape (ymin, ymax), optional\n",
    "        Defines minimum and maximum yvalues plotted.\n",
    "\n",
    "    cv : int, cross-validation generator or an iterable, optional\n",
    "        Determines the cross-validation splitting strategy.\n",
    "        Possible inputs for cv are:\n",
    "          - None, to use the default 3-fold cross-validation,\n",
    "          - integer, to specify the number of folds.\n",
    "          - An object to be used as a cross-validation generator.\n",
    "          - An iterable yielding train/test splits.\n",
    "\n",
    "        For integer/None inputs, if ``y`` is binary or multiclass,\n",
    "        :class:`StratifiedKFold` used. If the estimator is not a classifier\n",
    "        or if ``y`` is neither binary nor multiclass, :class:`KFold` is used.\n",
    "\n",
    "        Refer :ref:`User Guide <cross_validation>` for the various\n",
    "        cross-validators that can be used here.\n",
    "\n",
    "    n_jobs : integer, optional\n",
    "        Number of jobs to run in parallel (default 1).\n",
    "    \"\"\"\n",
    "    plt.figure()                    #display figure\n",
    "    plt.title(title)\n",
    "    if ylim is not None:\n",
    "        plt.ylim(*ylim)\n",
    "    plt.xlabel(\"Training examples\") #y label title\n",
    "    plt.ylabel(\"Score\")             #x label title\n",
    "    \n",
    "    # Class learning_curve determines cross-validated training and test scores for different training set sizes\n",
    "    train_sizes, train_scores, test_scores = learning_curve(\n",
    "        estimator, X, y, cv=cv, n_jobs=n_jobs, train_sizes=train_sizes)\n",
    "    \n",
    "    # Cross validation statistics for training and testing data (mean and standard deviation)\n",
    "    train_scores_mean = np.mean(train_scores, axis=1) # Compute the arithmetic mean along the specified axis.\n",
    "    train_scores_std = np.std(train_scores, axis=1) # Compute the standard deviation along the specified axis.\n",
    "    test_scores_mean = np.mean(test_scores, axis=1) # Compute the arithmetic mean along the specified axis.\n",
    "    test_scores_std = np.std(test_scores, axis=1)   # Compute the standard deviation along the specified axis.\n",
    "\n",
    "    plt.grid() # Configure the grid lines\n",
    "\n",
    "    # Fill the area around the line to indicate the size of standard deviations for the training data\n",
    "    # and the test data\n",
    "    plt.fill_between(train_sizes, train_scores_mean - train_scores_std,\n",
    "                     train_scores_mean + train_scores_std, alpha=0.1,\n",
    "                     color=\"r\") # train data performance indicated with red\n",
    "    plt.fill_between(train_sizes, test_scores_mean - test_scores_std,\n",
    "                     test_scores_mean + test_scores_std, alpha=0.1, color=\"g\") # test data performance indicated with green\n",
    "    \n",
    "    # Cross-validation means indicated by dots\n",
    "    # Train data performance indicated with red\n",
    "    plt.plot(train_sizes, train_scores_mean, 'o-', color=\"r\",\n",
    "             label=\"Training score\")\n",
    "    # Test data performance indicated with green\n",
    "    plt.plot(train_sizes, test_scores_mean, 'o-', color=\"g\",\n",
    "             label=\"Cross-validation score\")\n",
    "\n",
    "    plt.legend(loc=\"best\") #Show legend of the plot at the best location possible\n",
    "    return plt # function that returns the plot as an output"
   ]
  },
  {
   "cell_type": "code",
   "execution_count": 57,
   "metadata": {},
   "outputs": [
    {
     "data": {
      "image/png": "[encoded data removed]",
      "text/plain": [
       "<Figure size 432x288 with 1 Axes>"
      ]
     },
     "metadata": {},
     "output_type": "display_data"
    }
   ],
   "source": [
    "# Determines cross-validated training and test scores for different training set sizes\n",
    "from sklearn.model_selection import learning_curve \n",
    "# Random permutation cross-validator\n",
    "from sklearn.model_selection import ShuffleSplit\n",
    "# Logistic regression classifier class\n",
    "from sklearn.linear_model import LogisticRegression\n",
    "# kNN classifier class\n",
    "from sklearn.neighbors import KNeighborsClassifier\n",
    "from sklearn import neighbors\n",
    "# Each pyplot function makes some change to a figure: e.g., creates a figure, creates a plotting area in a figure, \n",
    "# plots some lines in a plotting area, decorates the plot with labels, etc\n",
    "import matplotlib.pyplot as plt\n",
    "\n",
    "\n",
    "\n",
    "title = \"Learning Curve (LR)\"\n",
    "\n",
    "# Plots the learning curve based on the previously defined function for the kNN classifier. Uses the \n",
    "# random permutation cross-validator\n",
    "cv = ShuffleSplit(n_splits=10, test_size=0.3, random_state=42)\n",
    "estimator = LogisticRegression(C=1000000, class_weight=None, dual=False,\n",
    "          fit_intercept=True, intercept_scaling=1, max_iter=100,\n",
    "          multi_class='ovr', n_jobs=1, penalty='l1', random_state=0,\n",
    "          solver='liblinear', tol=0.0001, verbose=0, warm_start=False)\n",
    "plot_learning_curve(estimator, title, X_train, y_train, (0.7, 1.01), cv=cv, n_jobs=4)\n",
    "\n",
    "plt.show() # Display the figure"
   ]
  },
  {
   "cell_type": "code",
   "execution_count": 85,
   "metadata": {},
   "outputs": [],
   "source": [
    "c[\"malignant\"] = c.iloc[:,1].str.replace(\"M\",\"1\")\n",
    "c[\"malignant\"]= c[\"malignant\"].str.replace(\"B\",\"0\")\n",
    "c[\"malignant\"]=c[\"malignant\"].astype(int)\n",
    "c.describe()\n",
    "X = c.iloc[:,2:-2]\n",
    "y = c.iloc[:,-1]\n",
    "X_train, X_test, y_train, y_test = train_test_split(\n",
    "    X, y, test_size=0.3, random_state=42, stratify=y)"
   ]
  },
  {
   "cell_type": "markdown",
   "metadata": {},
   "source": [
    "# ROC "
   ]
  },
  {
   "cell_type": "code",
   "execution_count": 90,
   "metadata": {
    "scrolled": true
   },
   "outputs": [
    {
     "name": "stdout",
     "output_type": "stream",
     "text": [
      "10-fold cross validation:\n",
      "\n",
      "ROC AUC: 0.99 (+/- 0.02) [Logistic regression]\n",
      "ROC AUC: 0.95 (+/- 0.03) [Decision tree]\n",
      "ROC AUC: 0.96 (+/- 0.04) [KNN]\n"
     ]
    },
    {
     "data": {
      "image/png": "[encoded data removed]",
      "text/plain": [
       "<Figure size 432x288 with 1 Axes>"
      ]
     },
     "metadata": {},
     "output_type": "display_data"
    }
   ],
   "source": [
    "\n",
    "import numpy as np\n",
    "from sklearn.linear_model import LogisticRegression\n",
    "from sklearn.tree import DecisionTreeClassifier\n",
    "from sklearn.neighbors import KNeighborsClassifier \n",
    "from sklearn.metrics import roc_curve\n",
    "from sklearn.metrics import auc\n",
    "\n",
    "# Logistic Regression Classifier\n",
    "clf1 = LogisticRegression(C=1000000, class_weight=None, dual=False,\n",
    "          fit_intercept=True, intercept_scaling=1, max_iter=100,\n",
    "          multi_class='ovr', n_jobs=1, penalty='l1', random_state=0,\n",
    "          solver='liblinear', tol=0.0001, verbose=0, warm_start=False)\n",
    "\n",
    "\n",
    "# Decision Tree Classifier\n",
    "clf2 = DecisionTreeClassifier(class_weight=None, criterion='entropy', max_depth=4,\n",
    "            max_features=10, max_leaf_nodes=None,\n",
    "            min_impurity_decrease=0.0, min_impurity_split=None,\n",
    "            min_samples_leaf=3, min_samples_split=2,\n",
    "            min_weight_fraction_leaf=0.0, presort=False, random_state=42,\n",
    "            splitter='best')\n",
    "\n",
    "\n",
    "# kNN Classifier\n",
    "clf3 = KNeighborsClassifier(algorithm='auto', leaf_size=30, metric='minkowski',\n",
    "           metric_params=None, n_jobs=1, n_neighbors=9, p=2,\n",
    "           weights='uniform')\n",
    "\n",
    "# Label the classifiers\n",
    "clf_labels = ['Logistic regression', 'Decision tree', 'KNN']\n",
    "all_clf = [clf1, clf2, clf3]\n",
    "\n",
    "print('10-fold cross validation:\\n')\n",
    "for clf, label in zip([clf1, clf2, clf3], clf_labels): #For all classifiers \n",
    "    scores = cross_val_score(estimator=clf,  #Estimate AUC based on cross validation\n",
    "                             X=X_train,\n",
    "                             y=y_train,\n",
    "                             cv=10,\n",
    "                             scoring='roc_auc')\n",
    "    print(\"ROC AUC: %0.2f (+/- %0.2f) [%s]\" #Print peformance statistics based on cross-validation\n",
    "          % (scores.mean(), scores.std(), label))\n",
    "\n",
    "colors = [ 'orange', 'blue', 'green']      #Colors for visualization\n",
    "linestyles = [':', '--', '-.', '-']        #Line styles for visualization\n",
    "for clf, label, clr, ls in zip(all_clf,\n",
    "               clf_labels, colors, linestyles):\n",
    "\n",
    "    # assuming the label of the positive class is 1 and data is normalized\n",
    "    y_pred = clf.fit(X_train,\n",
    "                     y_train).predict_proba(X_test)[:, 1] # Make predictions based on the classifiers\n",
    "    fpr, tpr, thresholds = roc_curve(y_true=y_test, # Build ROC curve\n",
    "                                     y_score=y_pred)\n",
    "    roc_auc = auc(x=fpr, y=tpr)                # Compute Area Under the Curve (AUC) \n",
    "    plt.plot(fpr, tpr,                         # Plot ROC Curve and create label with AUC values\n",
    "             color=clr,\n",
    "             linestyle=ls,\n",
    "             label='%s (auc = %0.2f)' % (label, roc_auc))\n",
    "\n",
    "plt.legend(loc='lower right')    # Where to place the legend\n",
    "plt.plot([0, 1], [0, 1], # Visualize random classifier\n",
    "         linestyle='--',\n",
    "         color='gray',\n",
    "         linewidth=2)\n",
    "\n",
    "plt.xlim([-0.2, 1.1])   #limits for x axis\n",
    "plt.ylim([-0.2, 1.1])   #limits for y axis\n",
    "plt.grid(alpha=0.5)\n",
    "plt.xlabel('False positive rate (FPR)')\n",
    "plt.ylabel('True positive rate (TPR)')\n",
    "\n",
    "\n",
    "#plt.savefig('ROC_all_classifiers', dpi=300)\n",
    "plt.show()"
   ]
  },
  {
   "cell_type": "code",
   "execution_count": null,
   "metadata": {},
   "outputs": [],
   "source": []
  },
  {
   "cell_type": "code",
   "execution_count": null,
   "metadata": {},
   "outputs": [],
   "source": []
  }
 ],
 "metadata": {
  "kernelspec": {
   "display_name": "Python 3",
   "language": "python",
   "name": "python3"
  },
  "language_info": {
   "codemirror_mode": {
    "name": "ipython",
    "version": 3
   },
   "file_extension": ".py",
   "mimetype": "text/x-python",
   "name": "python",
   "nbconvert_exporter": "python",
   "pygments_lexer": "ipython3",
   "version": "3.6.5"
  }
 },
 "nbformat": 4,
 "nbformat_minor": 2
}
