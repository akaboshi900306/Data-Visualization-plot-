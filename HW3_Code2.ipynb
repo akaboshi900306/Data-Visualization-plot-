{
 "cells": [
  {
   "cell_type": "code",
   "execution_count": 6,
   "metadata": {},
   "outputs": [
    {
     "name": "stdout",
     "output_type": "stream",
     "text": [
      "<class 'pandas.core.frame.DataFrame'>\n",
      "RangeIndex: 2000 entries, 0 to 1999\n",
      "Data columns (total 25 columns):\n",
      "sequence_number         2000 non-null int64\n",
      "US                      2000 non-null int64\n",
      "source_a                2000 non-null int64\n",
      "source_c                2000 non-null int64\n",
      "source_b                2000 non-null int64\n",
      "source_d                2000 non-null int64\n",
      "source_e                2000 non-null int64\n",
      "source_m                2000 non-null int64\n",
      "source_o                2000 non-null int64\n",
      "source_h                2000 non-null int64\n",
      "source_r                2000 non-null int64\n",
      "source_s                2000 non-null int64\n",
      "source_t                2000 non-null int64\n",
      "source_u                2000 non-null int64\n",
      "source_p                2000 non-null int64\n",
      "source_x                2000 non-null int64\n",
      "source_w                2000 non-null int64\n",
      "Freq                    2000 non-null int64\n",
      "last_update_days_ago    2000 non-null int64\n",
      "1st_update_days_ago     2000 non-null int64\n",
      "Web order               2000 non-null int64\n",
      "Gender=male             2000 non-null int64\n",
      "Address_is_res          2000 non-null int64\n",
      "Purchase                2000 non-null int64\n",
      "Spending                2000 non-null float64\n",
      "dtypes: float64(1), int64(24)\n",
      "memory usage: 390.7 KB\n"
     ]
    }
   ],
   "source": [
    "import csv\n",
    "import pandas as pd\n",
    "import numpy as np\n",
    "df = pd.read_excel(\"C:/Users/Godfr/Documents/US/IntroToBA/HW3/HW3.xlsx\")\n",
    "df.info()"
   ]
  },
  {
   "cell_type": "code",
   "execution_count": 17,
   "metadata": {},
   "outputs": [
    {
     "data": {
      "text/html": [
       "<div>\n",
       "<style scoped>\n",
       "    .dataframe tbody tr th:only-of-type {\n",
       "        vertical-align: middle;\n",
       "    }\n",
       "\n",
       "    .dataframe tbody tr th {\n",
       "        vertical-align: top;\n",
       "    }\n",
       "\n",
       "    .dataframe thead th {\n",
       "        text-align: right;\n",
       "    }\n",
       "</style>\n",
       "<table border=\"1\" class=\"dataframe\">\n",
       "  <thead>\n",
       "    <tr style=\"text-align: right;\">\n",
       "      <th></th>\n",
       "      <th>US</th>\n",
       "      <th>source_a</th>\n",
       "      <th>source_c</th>\n",
       "      <th>source_b</th>\n",
       "      <th>source_d</th>\n",
       "      <th>source_e</th>\n",
       "      <th>source_m</th>\n",
       "      <th>source_o</th>\n",
       "      <th>source_h</th>\n",
       "      <th>source_r</th>\n",
       "      <th>...</th>\n",
       "      <th>source_u</th>\n",
       "      <th>source_p</th>\n",
       "      <th>source_x</th>\n",
       "      <th>source_w</th>\n",
       "      <th>Freq</th>\n",
       "      <th>last_update_days_ago</th>\n",
       "      <th>1st_update_days_ago</th>\n",
       "      <th>Web order</th>\n",
       "      <th>Gender=male</th>\n",
       "      <th>Address_is_res</th>\n",
       "    </tr>\n",
       "  </thead>\n",
       "  <tbody>\n",
       "    <tr>\n",
       "      <th>0</th>\n",
       "      <td>1</td>\n",
       "      <td>0</td>\n",
       "      <td>0</td>\n",
       "      <td>1</td>\n",
       "      <td>0</td>\n",
       "      <td>0</td>\n",
       "      <td>0</td>\n",
       "      <td>0</td>\n",
       "      <td>0</td>\n",
       "      <td>0</td>\n",
       "      <td>...</td>\n",
       "      <td>0</td>\n",
       "      <td>0</td>\n",
       "      <td>0</td>\n",
       "      <td>0</td>\n",
       "      <td>2</td>\n",
       "      <td>3662</td>\n",
       "      <td>3662</td>\n",
       "      <td>1</td>\n",
       "      <td>0</td>\n",
       "      <td>1</td>\n",
       "    </tr>\n",
       "    <tr>\n",
       "      <th>1</th>\n",
       "      <td>1</td>\n",
       "      <td>0</td>\n",
       "      <td>0</td>\n",
       "      <td>0</td>\n",
       "      <td>0</td>\n",
       "      <td>1</td>\n",
       "      <td>0</td>\n",
       "      <td>0</td>\n",
       "      <td>0</td>\n",
       "      <td>0</td>\n",
       "      <td>...</td>\n",
       "      <td>0</td>\n",
       "      <td>0</td>\n",
       "      <td>0</td>\n",
       "      <td>0</td>\n",
       "      <td>0</td>\n",
       "      <td>2900</td>\n",
       "      <td>2900</td>\n",
       "      <td>1</td>\n",
       "      <td>1</td>\n",
       "      <td>0</td>\n",
       "    </tr>\n",
       "    <tr>\n",
       "      <th>2</th>\n",
       "      <td>1</td>\n",
       "      <td>0</td>\n",
       "      <td>0</td>\n",
       "      <td>0</td>\n",
       "      <td>0</td>\n",
       "      <td>0</td>\n",
       "      <td>0</td>\n",
       "      <td>0</td>\n",
       "      <td>0</td>\n",
       "      <td>0</td>\n",
       "      <td>...</td>\n",
       "      <td>0</td>\n",
       "      <td>0</td>\n",
       "      <td>0</td>\n",
       "      <td>0</td>\n",
       "      <td>2</td>\n",
       "      <td>3883</td>\n",
       "      <td>3914</td>\n",
       "      <td>0</td>\n",
       "      <td>0</td>\n",
       "      <td>0</td>\n",
       "    </tr>\n",
       "    <tr>\n",
       "      <th>3</th>\n",
       "      <td>1</td>\n",
       "      <td>0</td>\n",
       "      <td>1</td>\n",
       "      <td>0</td>\n",
       "      <td>0</td>\n",
       "      <td>0</td>\n",
       "      <td>0</td>\n",
       "      <td>0</td>\n",
       "      <td>0</td>\n",
       "      <td>0</td>\n",
       "      <td>...</td>\n",
       "      <td>0</td>\n",
       "      <td>0</td>\n",
       "      <td>0</td>\n",
       "      <td>0</td>\n",
       "      <td>1</td>\n",
       "      <td>829</td>\n",
       "      <td>829</td>\n",
       "      <td>0</td>\n",
       "      <td>1</td>\n",
       "      <td>0</td>\n",
       "    </tr>\n",
       "    <tr>\n",
       "      <th>4</th>\n",
       "      <td>1</td>\n",
       "      <td>0</td>\n",
       "      <td>1</td>\n",
       "      <td>0</td>\n",
       "      <td>0</td>\n",
       "      <td>0</td>\n",
       "      <td>0</td>\n",
       "      <td>0</td>\n",
       "      <td>0</td>\n",
       "      <td>0</td>\n",
       "      <td>...</td>\n",
       "      <td>0</td>\n",
       "      <td>0</td>\n",
       "      <td>0</td>\n",
       "      <td>0</td>\n",
       "      <td>1</td>\n",
       "      <td>869</td>\n",
       "      <td>869</td>\n",
       "      <td>0</td>\n",
       "      <td>0</td>\n",
       "      <td>0</td>\n",
       "    </tr>\n",
       "  </tbody>\n",
       "</table>\n",
       "<p>5 rows × 22 columns</p>\n",
       "</div>"
      ],
      "text/plain": [
       "   US  source_a  source_c  source_b  source_d  source_e  source_m  source_o  \\\n",
       "0   1         0         0         1         0         0         0         0   \n",
       "1   1         0         0         0         0         1         0         0   \n",
       "2   1         0         0         0         0         0         0         0   \n",
       "3   1         0         1         0         0         0         0         0   \n",
       "4   1         0         1         0         0         0         0         0   \n",
       "\n",
       "   source_h  source_r       ...        source_u  source_p  source_x  source_w  \\\n",
       "0         0         0       ...               0         0         0         0   \n",
       "1         0         0       ...               0         0         0         0   \n",
       "2         0         0       ...               0         0         0         0   \n",
       "3         0         0       ...               0         0         0         0   \n",
       "4         0         0       ...               0         0         0         0   \n",
       "\n",
       "   Freq  last_update_days_ago  1st_update_days_ago  Web order  Gender=male  \\\n",
       "0     2                  3662                 3662          1            0   \n",
       "1     0                  2900                 2900          1            1   \n",
       "2     2                  3883                 3914          0            0   \n",
       "3     1                   829                  829          0            1   \n",
       "4     1                   869                  869          0            0   \n",
       "\n",
       "   Address_is_res  \n",
       "0               1  \n",
       "1               0  \n",
       "2               0  \n",
       "3               0  \n",
       "4               0  \n",
       "\n",
       "[5 rows x 22 columns]"
      ]
     },
     "execution_count": 17,
     "metadata": {},
     "output_type": "execute_result"
    }
   ],
   "source": [
    "y=df['Spending']\n",
    "X=df.iloc[:,1:23]\n",
    "X.head()"
   ]
  },
  {
   "cell_type": "code",
   "execution_count": 23,
   "metadata": {},
   "outputs": [
    {
     "data": {
      "text/plain": [
       "count    2000.000000\n",
       "mean      102.560745\n",
       "std       186.749816\n",
       "min         0.000000\n",
       "25%         0.000000\n",
       "50%         1.855000\n",
       "75%       152.532500\n",
       "max      1500.060000\n",
       "Name: Spending, dtype: float64"
      ]
     },
     "execution_count": 23,
     "metadata": {},
     "output_type": "execute_result"
    }
   ],
   "source": [
    "y.describe()"
   ]
  },
  {
   "cell_type": "code",
   "execution_count": 29,
   "metadata": {},
   "outputs": [
    {
     "data": {
      "text/plain": [
       "Text(0.5,1,'Histogram of Log of Price')"
      ]
     },
     "execution_count": 29,
     "metadata": {},
     "output_type": "execute_result"
    },
    {
     "data": {
      "image/png": "[encoded data removed]",
      "text/plain": [
       "<Figure size 432x288 with 1 Axes>"
      ]
     },
     "metadata": {},
     "output_type": "display_data"
    }
   ],
   "source": [
    "import matplotlib.pyplot as plt\n",
    "%matplotlib inline\n",
    "plt.hist(y, bins = 20)\n",
    "plt.xlabel('Log of Price')\n",
    "plt.ylabel('Probability')\n",
    "plt.title('Histogram of Log of Price')"
   ]
  },
  {
   "cell_type": "code",
   "execution_count": 19,
   "metadata": {},
   "outputs": [],
   "source": [
    "# Split dataset for holdout testing\n",
    "\n",
    "from sklearn.model_selection import train_test_split \n",
    "\n",
    "X_train, X_test, y_train, y_test = train_test_split(X, y, test_size = 0.30, random_state=40) # 30% of data for test"
   ]
  },
  {
   "cell_type": "code",
   "execution_count": 21,
   "metadata": {},
   "outputs": [
    {
     "name": "stdout",
     "output_type": "stream",
     "text": [
      "Best tree MSE: 20803.3397\n",
      "Best parameters: {'max_depth': 8, 'max_leaf_nodes': 18, 'min_samples_leaf': 50}\n"
     ]
    }
   ],
   "source": [
    "np.random.seed(42) # set default random seed generator for consistent results\n",
    "\n",
    "from sklearn.model_selection import GridSearchCV\n",
    "from sklearn.tree import DecisionTreeRegressor\n",
    "\n",
    "# specify gridsearch\n",
    "tree = GridSearchCV(estimator=DecisionTreeRegressor(random_state=42), scoring='neg_mean_squared_error',\n",
    "                  param_grid=[{'max_depth': range(3,12,1), \n",
    "                              'min_samples_leaf':[50,100,200],\n",
    "                              'max_leaf_nodes':range(8,26,2)}],\n",
    "                  cv=10,\n",
    "                  n_jobs=4)\n",
    "tree = tree.fit(X_train, y_train)\n",
    "print('Best tree MSE: %.4f'% (-tree.best_score_))\n",
    "print('Best parameters:', tree.best_params_)"
   ]
  },
  {
   "cell_type": "code",
   "execution_count": 25,
   "metadata": {},
   "outputs": [
    {
     "name": "stdout",
     "output_type": "stream",
     "text": [
      "Decision Tree Performance Results\n",
      "Root mean squared error (RMSE): train: 137.965, test: 149.437\n",
      "Mean absolute error (MAE): train: 70.248, test: 81.786\n",
      "Explained variance score: train: 0.457, test: 0.348\n"
     ]
    }
   ],
   "source": [
    "from sklearn.metrics import mean_squared_error, mean_absolute_error, explained_variance_score\n",
    "\n",
    "# fit final tree and get predictions\n",
    "tree_final = tree.best_estimator_.fit(X_train,y_train)\n",
    "\n",
    "# apply model to training and test data\n",
    "y_pred_tree_train = tree_final.predict(X_train) # Apply model to train data\n",
    "y_pred_tree_test = tree_final.predict(X_test)   # Apply model to test data\n",
    "\n",
    "# get root mean squared error\n",
    "rmse_tree_train = np.sqrt(mean_squared_error(y_train, y_pred_tree_train))\n",
    "rmse_tree_test = np.sqrt(mean_squared_error(y_test, y_pred_tree_test))\n",
    "\n",
    "# get mean absolute error\n",
    "mae_tree_train = mean_absolute_error(y_train, y_pred_tree_train)\n",
    "mae_tree_test = mean_absolute_error(y_test, y_pred_tree_test)\n",
    "\n",
    "# get explained variance score\n",
    "evar_tree_train = explained_variance_score(y_train, y_pred_tree_train)\n",
    "evar_tree_test = explained_variance_score(y_test, y_pred_tree_test)\n",
    "\n",
    "# print performance results\n",
    "\n",
    "print('Decision Tree Performance Results')\n",
    "print('Root mean squared error (RMSE): train: %.3f, test: %.3f' % (rmse_tree_train, rmse_tree_test))\n",
    "print('Mean absolute error (MAE): train: %.3f, test: %.3f' % (mae_tree_train, mae_tree_test))\n",
    "print('Explained variance score: train: %.3f, test: %.3f' % (evar_tree_train, evar_tree_test))"
   ]
  },
  {
   "cell_type": "code",
   "execution_count": 38,
   "metadata": {},
   "outputs": [
    {
     "name": "stdout",
     "output_type": "stream",
     "text": [
      "Training data shape before feature selection: (1400, 22)\n",
      "Training data shape after feature selection: (1400, 4)\n",
      "Test data shape before feature selection: (600, 22)\n",
      "Test data shape after feature selection: (600, 4)\n"
     ]
    },
    {
     "name": "stderr",
     "output_type": "stream",
     "text": [
      "C:\\App\\anaconda\\Anaconda\\lib\\site-packages\\sklearn\\utils\\validation.py:475: DataConversionWarning: Data with input dtype int64 was converted to float64 by StandardScaler.\n",
      "  warnings.warn(msg, DataConversionWarning)\n"
     ]
    }
   ],
   "source": [
    "from sklearn.ensemble import ExtraTreesRegressor\n",
    "from sklearn.feature_selection import SelectFromModel\n",
    "\n",
    "clf = ExtraTreesRegressor(n_estimators=10)\n",
    "clf = clf.fit(X_train, y_train)\n",
    "clf.feature_importances_;\n",
    "model = SelectFromModel(clf, prefit=True)\n",
    "X_train_lim = model.transform(X_train) # feature subset for k-nn training\n",
    "X_test_lim = model.transform(X_test) # feature subset for k-nn testing\n",
    "\n",
    "# check how many features have been reduced\n",
    "from sklearn.preprocessing import StandardScaler\n",
    "\n",
    "sc = StandardScaler()\n",
    "sc.fit(X_train_lim)\n",
    "X_train_std = sc.transform(X_train_lim)\n",
    "X_test_std = sc.transform(X_test_lim)\n",
    "\n",
    "print('Training data shape before feature selection:', X_train.shape)\n",
    "print('Training data shape after feature selection:', X_train_lim.shape)\n",
    "print('Test data shape before feature selection:', X_test.shape)\n",
    "print('Test data shape after feature selection:', X_test_lim.shape)"
   ]
  },
  {
   "cell_type": "code",
   "execution_count": 40,
   "metadata": {},
   "outputs": [
    {
     "name": "stdout",
     "output_type": "stream",
     "text": [
      "Best knn MSE: 15739.3692\n",
      "Best parameters: {'n_neighbors': 8}\n"
     ]
    }
   ],
   "source": [
    "from sklearn.neighbors import KNeighborsRegressor\n",
    "\n",
    "knn = GridSearchCV(estimator=KNeighborsRegressor(p=2, metric='minkowski', weights='distance'),\n",
    "                   param_grid=[{'n_neighbors': range(1,30,1)}],\n",
    "                                scoring='neg_mean_squared_error',\n",
    "                   cv=10,\n",
    "                   n_jobs=4)\n",
    "knn = knn.fit(X_train_std, y_train)\n",
    "print('Best knn MSE: %.4f'% (-knn.best_score_))\n",
    "print('Best parameters:', knn.best_params_)"
   ]
  },
  {
   "cell_type": "code",
   "execution_count": 42,
   "metadata": {},
   "outputs": [
    {
     "name": "stdout",
     "output_type": "stream",
     "text": [
      "k-NN regression Performance Results\n",
      "Root mean squared error (RMSE): train: 18.060, test: 131.833\n",
      "Mean absolute error (MAE): train: 4.488, test: 73.903\n",
      "Explained variance score: train: 0.991, test: 0.497\n"
     ]
    }
   ],
   "source": [
    "knn_final = knn.best_estimator_.fit(X_train_std,y_train)\n",
    "\n",
    "# apply model to training and test data\n",
    "y_pred_knn_train = knn_final.predict(X_train_std) # Apply model to train data\n",
    "y_pred_knn_test = knn_final.predict(X_test_std)   # Apply model to test data\n",
    "# evaluate model performance\n",
    "\n",
    "# get root mean squared error\n",
    "rmse_knn_train = np.sqrt(mean_squared_error(y_train, y_pred_knn_train))\n",
    "rmse_knn_test = np.sqrt(mean_squared_error(y_test, y_pred_knn_test))\n",
    "\n",
    "# get mean absolute error\n",
    "mae_knn_train = mean_absolute_error(y_train, y_pred_knn_train)\n",
    "mae_knn_test = mean_absolute_error(y_test, y_pred_knn_test)\n",
    "\n",
    "# get explained variance score\n",
    "evar_knn_train = explained_variance_score(y_train, y_pred_knn_train)\n",
    "evar_knn_test = explained_variance_score(y_test, y_pred_knn_test)\n",
    "# print performance results\n",
    "\n",
    "print('k-NN regression Performance Results')\n",
    "print('Root mean squared error (RMSE): train: %.3f, test: %.3f' % (rmse_knn_train, rmse_knn_test))\n",
    "print('Mean absolute error (MAE): train: %.3f, test: %.3f' % (mae_knn_train, mae_knn_test))\n",
    "print('Explained variance score: train: %.3f, test: %.3f' % (evar_knn_train, evar_knn_test))"
   ]
  },
  {
   "cell_type": "code",
   "execution_count": 49,
   "metadata": {},
   "outputs": [
    {
     "name": "stdout",
     "output_type": "stream",
     "text": [
      "Best lasso MSE: 16637.8666\n",
      "Best parameters: {'alpha': 0.1}\n"
     ]
    }
   ],
   "source": [
    "from sklearn.linear_model import Lasso\n",
    "\n",
    "lasso = GridSearchCV(estimator=Lasso(random_state=42),\n",
    "                     param_grid= [{'alpha': [0.00001, 0.0001, 0.001, 0.01, 0.1, 1,  10, 100, 1000,10000]}],\n",
    "                     scoring='neg_mean_squared_error',\n",
    "                     cv=10, iid=False,\n",
    "                     n_jobs=4)\n",
    "lasso = lasso.fit(X_train, y_train)\n",
    "print('Best lasso MSE: %.4f'% (-lasso.best_score_))\n",
    "print('Best parameters:', lasso.best_params_)"
   ]
  },
  {
   "cell_type": "code",
   "execution_count": 50,
   "metadata": {},
   "outputs": [
    {
     "name": "stdout",
     "output_type": "stream",
     "text": [
      "Lasso regression Performance Results\n",
      "Root mean squared error (RMSE): train: 127.178, test: 125.237\n",
      "Mean absolute error (MAE): train: 76.169, test: 80.615\n",
      "Explained variance score: train: 0.538, test: 0.543\n"
     ]
    }
   ],
   "source": [
    "lasso_final = lasso.best_estimator_.fit(X_train,y_train)\n",
    "\n",
    "# apply model to training and test data\n",
    "y_pred_lasso_train = lasso_final.predict(X_train) # Apply model to train data\n",
    "y_pred_lasso_test = lasso_final.predict(X_test)   # Apply model to test data\n",
    "\n",
    "\n",
    "# get root mean squared error\n",
    "rmse_lasso_train = np.sqrt(mean_squared_error(y_train, y_pred_lasso_train))\n",
    "rmse_lasso_test = np.sqrt(mean_squared_error(y_test, y_pred_lasso_test))\n",
    "\n",
    "# get mean absolute error\n",
    "mae_lasso_train = mean_absolute_error(y_train, y_pred_lasso_train)\n",
    "mae_lasso_test = mean_absolute_error(y_test, y_pred_lasso_test)\n",
    "\n",
    "# get explained variance score\n",
    "evar_lasso_train = explained_variance_score(y_train, y_pred_lasso_train)\n",
    "evar_lasso_test = explained_variance_score(y_test, y_pred_lasso_test)\n",
    "\n",
    "print('Lasso regression Performance Results')\n",
    "print('Root mean squared error (RMSE): train: %.3f, test: %.3f' % (rmse_lasso_train, rmse_lasso_test))\n",
    "print('Mean absolute error (MAE): train: %.3f, test: %.3f' % (mae_lasso_train, mae_lasso_test))\n",
    "print('Explained variance score: train: %.3f, test: %.3f' % (evar_lasso_train, evar_lasso_test))"
   ]
  },
  {
   "cell_type": "code",
   "execution_count": 47,
   "metadata": {},
   "outputs": [
    {
     "name": "stdout",
     "output_type": "stream",
     "text": [
      "Best ridge MSE: 16619.7984\n",
      "Best parameters: {'alpha': 10}\n"
     ]
    }
   ],
   "source": [
    "# setup grid search cross-validation for ridge regression\n",
    "\n",
    "from sklearn.linear_model import Ridge\n",
    "\n",
    "ridge = GridSearchCV(estimator=Ridge(random_state=42),\n",
    "                     param_grid= [{'alpha': [0.00001, 0.0001, 0.001, 0.01, 0.1, 1,  10, 100, 1000,10000]}],\n",
    "                     scoring='neg_mean_squared_error',\n",
    "                     cv=10, iid=False,\n",
    "                     n_jobs=-1)\n",
    "ridge = ridge.fit(X_train, y_train)\n",
    "print('Best ridge MSE: %.4f'% (-ridge.best_score_))\n",
    "print('Best parameters:', ridge.best_params_)"
   ]
  },
  {
   "cell_type": "code",
   "execution_count": 48,
   "metadata": {},
   "outputs": [
    {
     "name": "stdout",
     "output_type": "stream",
     "text": [
      "Ridge regression Performance Results\n",
      "Root mean squared error (RMSE): train: 127.213, test: 125.418\n",
      "Mean absolute error (MAE): train: 76.244, test: 80.963\n",
      "Explained variance score: train: 0.538, test: 0.541\n"
     ]
    }
   ],
   "source": [
    "ridge_final = ridge.best_estimator_.fit(X_train,y_train)\n",
    "\n",
    "# apply model to training and test data\n",
    "y_pred_ridge_train = ridge_final.predict(X_train) # Apply model to train data\n",
    "y_pred_ridge_test = ridge_final.predict(X_test)   # Apply model to test data\n",
    "\n",
    "# get root mean squared error\n",
    "rmse_ridge_train = np.sqrt(mean_squared_error(y_train, y_pred_ridge_train))\n",
    "rmse_ridge_test = np.sqrt(mean_squared_error(y_test, y_pred_ridge_test))\n",
    "\n",
    "# get mean absolute error\n",
    "mae_ridge_train = mean_absolute_error(y_train, y_pred_ridge_train)\n",
    "mae_ridge_test = mean_absolute_error(y_test, y_pred_ridge_test)\n",
    "\n",
    "# get explained variance score\n",
    "evar_ridge_train = explained_variance_score(y_train, y_pred_ridge_train)\n",
    "evar_ridge_test = explained_variance_score(y_test, y_pred_ridge_test)\n",
    "\n",
    "print('Ridge regression Performance Results')\n",
    "print('Root mean squared error (RMSE): train: %.3f, test: %.3f' % (rmse_ridge_train, rmse_ridge_test))\n",
    "print('Mean absolute error (MAE): train: %.3f, test: %.3f' % (mae_ridge_train, mae_ridge_test))\n",
    "print('Explained variance score: train: %.3f, test: %.3f' % (evar_ridge_train, evar_ridge_test))"
   ]
  }
 ],
 "metadata": {
  "kernelspec": {
   "display_name": "Python 3",
   "language": "python",
   "name": "python3"
  },
  "language_info": {
   "codemirror_mode": {
    "name": "ipython",
    "version": 3
   },
   "file_extension": ".py",
   "mimetype": "text/x-python",
   "name": "python",
   "nbconvert_exporter": "python",
   "pygments_lexer": "ipython3",
   "version": "3.6.5"
  }
 },
 "nbformat": 4,
 "nbformat_minor": 2
}
