{
 "cells": [
  {
   "cell_type": "code",
   "execution_count": 46,
   "metadata": {},
   "outputs": [
    {
     "data": {
      "text/html": [
       "<div>\n",
       "<style scoped>\n",
       "    .dataframe tbody tr th:only-of-type {\n",
       "        vertical-align: middle;\n",
       "    }\n",
       "\n",
       "    .dataframe tbody tr th {\n",
       "        vertical-align: top;\n",
       "    }\n",
       "\n",
       "    .dataframe thead th {\n",
       "        text-align: right;\n",
       "    }\n",
       "</style>\n",
       "<table border=\"1\" class=\"dataframe\">\n",
       "  <thead>\n",
       "    <tr style=\"text-align: right;\">\n",
       "      <th></th>\n",
       "      <th>sequence_number</th>\n",
       "      <th>US</th>\n",
       "      <th>source_a</th>\n",
       "      <th>source_c</th>\n",
       "      <th>source_b</th>\n",
       "      <th>source_d</th>\n",
       "      <th>source_e</th>\n",
       "      <th>source_m</th>\n",
       "      <th>source_o</th>\n",
       "      <th>source_h</th>\n",
       "      <th>...</th>\n",
       "      <th>source_x</th>\n",
       "      <th>source_w</th>\n",
       "      <th>Freq</th>\n",
       "      <th>last_update_days_ago</th>\n",
       "      <th>1st_update_days_ago</th>\n",
       "      <th>Web order</th>\n",
       "      <th>Gender=male</th>\n",
       "      <th>Address_is_res</th>\n",
       "      <th>Purchase</th>\n",
       "      <th>Spending</th>\n",
       "    </tr>\n",
       "  </thead>\n",
       "  <tbody>\n",
       "    <tr>\n",
       "      <th>0</th>\n",
       "      <td>1</td>\n",
       "      <td>1</td>\n",
       "      <td>0</td>\n",
       "      <td>0</td>\n",
       "      <td>1</td>\n",
       "      <td>0</td>\n",
       "      <td>0</td>\n",
       "      <td>0</td>\n",
       "      <td>0</td>\n",
       "      <td>0</td>\n",
       "      <td>...</td>\n",
       "      <td>0</td>\n",
       "      <td>0</td>\n",
       "      <td>2</td>\n",
       "      <td>3662</td>\n",
       "      <td>3662</td>\n",
       "      <td>1</td>\n",
       "      <td>0</td>\n",
       "      <td>1</td>\n",
       "      <td>1</td>\n",
       "      <td>127.87</td>\n",
       "    </tr>\n",
       "    <tr>\n",
       "      <th>1</th>\n",
       "      <td>2</td>\n",
       "      <td>1</td>\n",
       "      <td>0</td>\n",
       "      <td>0</td>\n",
       "      <td>0</td>\n",
       "      <td>0</td>\n",
       "      <td>1</td>\n",
       "      <td>0</td>\n",
       "      <td>0</td>\n",
       "      <td>0</td>\n",
       "      <td>...</td>\n",
       "      <td>0</td>\n",
       "      <td>0</td>\n",
       "      <td>0</td>\n",
       "      <td>2900</td>\n",
       "      <td>2900</td>\n",
       "      <td>1</td>\n",
       "      <td>1</td>\n",
       "      <td>0</td>\n",
       "      <td>0</td>\n",
       "      <td>0.00</td>\n",
       "    </tr>\n",
       "    <tr>\n",
       "      <th>2</th>\n",
       "      <td>3</td>\n",
       "      <td>1</td>\n",
       "      <td>0</td>\n",
       "      <td>0</td>\n",
       "      <td>0</td>\n",
       "      <td>0</td>\n",
       "      <td>0</td>\n",
       "      <td>0</td>\n",
       "      <td>0</td>\n",
       "      <td>0</td>\n",
       "      <td>...</td>\n",
       "      <td>0</td>\n",
       "      <td>0</td>\n",
       "      <td>2</td>\n",
       "      <td>3883</td>\n",
       "      <td>3914</td>\n",
       "      <td>0</td>\n",
       "      <td>0</td>\n",
       "      <td>0</td>\n",
       "      <td>1</td>\n",
       "      <td>127.48</td>\n",
       "    </tr>\n",
       "    <tr>\n",
       "      <th>3</th>\n",
       "      <td>4</td>\n",
       "      <td>1</td>\n",
       "      <td>0</td>\n",
       "      <td>1</td>\n",
       "      <td>0</td>\n",
       "      <td>0</td>\n",
       "      <td>0</td>\n",
       "      <td>0</td>\n",
       "      <td>0</td>\n",
       "      <td>0</td>\n",
       "      <td>...</td>\n",
       "      <td>0</td>\n",
       "      <td>0</td>\n",
       "      <td>1</td>\n",
       "      <td>829</td>\n",
       "      <td>829</td>\n",
       "      <td>0</td>\n",
       "      <td>1</td>\n",
       "      <td>0</td>\n",
       "      <td>0</td>\n",
       "      <td>0.00</td>\n",
       "    </tr>\n",
       "    <tr>\n",
       "      <th>4</th>\n",
       "      <td>5</td>\n",
       "      <td>1</td>\n",
       "      <td>0</td>\n",
       "      <td>1</td>\n",
       "      <td>0</td>\n",
       "      <td>0</td>\n",
       "      <td>0</td>\n",
       "      <td>0</td>\n",
       "      <td>0</td>\n",
       "      <td>0</td>\n",
       "      <td>...</td>\n",
       "      <td>0</td>\n",
       "      <td>0</td>\n",
       "      <td>1</td>\n",
       "      <td>869</td>\n",
       "      <td>869</td>\n",
       "      <td>0</td>\n",
       "      <td>0</td>\n",
       "      <td>0</td>\n",
       "      <td>0</td>\n",
       "      <td>0.00</td>\n",
       "    </tr>\n",
       "  </tbody>\n",
       "</table>\n",
       "<p>5 rows × 25 columns</p>\n",
       "</div>"
      ],
      "text/plain": [
       "   sequence_number  US  source_a  source_c  source_b  source_d  source_e  \\\n",
       "0                1   1         0         0         1         0         0   \n",
       "1                2   1         0         0         0         0         1   \n",
       "2                3   1         0         0         0         0         0   \n",
       "3                4   1         0         1         0         0         0   \n",
       "4                5   1         0         1         0         0         0   \n",
       "\n",
       "   source_m  source_o  source_h    ...     source_x  source_w  Freq  \\\n",
       "0         0         0         0    ...            0         0     2   \n",
       "1         0         0         0    ...            0         0     0   \n",
       "2         0         0         0    ...            0         0     2   \n",
       "3         0         0         0    ...            0         0     1   \n",
       "4         0         0         0    ...            0         0     1   \n",
       "\n",
       "   last_update_days_ago  1st_update_days_ago  Web order  Gender=male  \\\n",
       "0                  3662                 3662          1            0   \n",
       "1                  2900                 2900          1            1   \n",
       "2                  3883                 3914          0            0   \n",
       "3                   829                  829          0            1   \n",
       "4                   869                  869          0            0   \n",
       "\n",
       "   Address_is_res  Purchase  Spending  \n",
       "0               1         1    127.87  \n",
       "1               0         0      0.00  \n",
       "2               0         1    127.48  \n",
       "3               0         0      0.00  \n",
       "4               0         0      0.00  \n",
       "\n",
       "[5 rows x 25 columns]"
      ]
     },
     "execution_count": 46,
     "metadata": {},
     "output_type": "execute_result"
    }
   ],
   "source": [
    "import csv\n",
    "import numpy as np\n",
    "import pandas as pd\n",
    "\n",
    "data = pd.read_excel(r'C:\\Users\\akabo\\Downloads\\HW3.xlsx')\n",
    "data.head()"
   ]
  },
  {
   "cell_type": "code",
   "execution_count": 49,
   "metadata": {},
   "outputs": [
    {
     "data": {
      "text/plain": [
       "0       1\n",
       "1       0\n",
       "2       0\n",
       "3       0\n",
       "4       0\n",
       "5       1\n",
       "6       1\n",
       "7       0\n",
       "8       0\n",
       "9       0\n",
       "10      0\n",
       "11      1\n",
       "12      0\n",
       "13      0\n",
       "14      1\n",
       "15      0\n",
       "16      1\n",
       "17      0\n",
       "18      1\n",
       "19      0\n",
       "20      0\n",
       "21      0\n",
       "22      1\n",
       "23      1\n",
       "24      0\n",
       "25      0\n",
       "26      0\n",
       "27      0\n",
       "28      0\n",
       "29      0\n",
       "       ..\n",
       "1970    0\n",
       "1971    1\n",
       "1972    0\n",
       "1973    0\n",
       "1974    0\n",
       "1975    0\n",
       "1976    1\n",
       "1977    0\n",
       "1978    0\n",
       "1979    1\n",
       "1980    0\n",
       "1981    0\n",
       "1982    0\n",
       "1983    0\n",
       "1984    1\n",
       "1985    0\n",
       "1986    1\n",
       "1987    0\n",
       "1988    0\n",
       "1989    0\n",
       "1990    1\n",
       "1991    0\n",
       "1992    0\n",
       "1993    0\n",
       "1994    0\n",
       "1995    0\n",
       "1996    0\n",
       "1997    0\n",
       "1998    1\n",
       "1999    0\n",
       "Name: Address_is_res, Length: 2000, dtype: int64"
      ]
     },
     "execution_count": 49,
     "metadata": {},
     "output_type": "execute_result"
    }
   ],
   "source": [
    "data.iloc[:,22]"
   ]
  },
  {
   "cell_type": "code",
   "execution_count": 15,
   "metadata": {},
   "outputs": [
    {
     "data": {
      "text/plain": [
       "Text(0.5,1,'Histogram of Log of Price')"
      ]
     },
     "execution_count": 15,
     "metadata": {},
     "output_type": "execute_result"
    },
    {
     "data": {
      "image/png": "[encoded data removed]",
      "text/plain": [
       "<Figure size 432x288 with 1 Axes>"
      ]
     },
     "metadata": {},
     "output_type": "display_data"
    }
   ],
   "source": [
    "import matplotlib.pyplot as plt\n",
    "%matplotlib inline\n",
    "plt.hist(y, bins = 20)\n",
    "plt.xlabel('Log of Price')\n",
    "plt.ylabel('Probability')\n",
    "plt.title('Histogram of Log of Price')"
   ]
  },
  {
   "cell_type": "code",
   "execution_count": 2,
   "metadata": {},
   "outputs": [
    {
     "data": {
      "text/plain": [
       "<Figure size 1000x1000 with 20 Axes>"
      ]
     },
     "metadata": {},
     "output_type": "display_data"
    },
    {
     "data": {
      "text/plain": [
       "<Figure size 640x480 with 2 Axes>"
      ]
     },
     "metadata": {},
     "output_type": "display_data"
    }
   ],
   "source": [
    "import numpy as np\n",
    "import seaborn as sns\n",
    "import matplotlib.pyplot as plt\n",
    "\n",
    "cols = ['Freq', 'last_update_days_ago', '1st_update_days_ago', 'Spending']\n",
    "sns.pairplot(data[cols], size=2.5) # Plot pairwise relationships in a dataset\n",
    "plt.tight_layout() # tight_layout automatically adjusts subplot params so that the subplot(s) fits in to the figure area.\n",
    "# plt.savefig('housing_dataset.png', dpi=300)\n",
    "plt.show() # display figure\n",
    "\n",
    "cm = np.corrcoef(data[cols].values.T) # Return Pearson product-moment correlation coefficients\n",
    "# sns.set(font_scale=1.5)\n",
    "# Heatmap visualisation of pearson correlation coefficients\n",
    "# Documentation https://seaborn.pydata.org/generated/seaborn.heatmap.html\n",
    "hm = sns.heatmap(cm,                # Plot rectangular data as a color-encoded matrix\n",
    "                 cbar=True,         # Whether to draw a colorbar.\n",
    "                 annot=True,        # If True, write the data value in each cell.\n",
    "                 square=True,       # If True, set the Axes aspect to “equal” so each cell will be square-shaped.\n",
    "                 fmt='.2f',         # String formatting code to use when adding annotations.\n",
    "                 annot_kws={'size': 15}, # Keyword arguments for ax.text when annot is True\n",
    "                 yticklabels=cols,  # If True, plot the column names of the dataframe.\n",
    "                 xticklabels=cols)\n",
    "\n",
    "# plt.savefig('correlation_coefficient.png', dpi=300)\n",
    "plt.show()"
   ]
  },
  {
   "cell_type": "code",
   "execution_count": 20,
   "metadata": {},
   "outputs": [],
   "source": [
    "from sklearn.model_selection import train_test_split\n",
    "\n",
    "X = data.iloc[:,1:23]\n",
    "y = data['Spending']\n",
    "\n",
    "X_train, X_test, y_train, y_test = train_test_split(X, y, \n",
    "                                                    test_size=0.25, random_state=42)"
   ]
  },
  {
   "cell_type": "code",
   "execution_count": null,
   "metadata": {},
   "outputs": [],
   "source": []
  },
  {
   "cell_type": "code",
   "execution_count": 33,
   "metadata": {},
   "outputs": [
    {
     "name": "stdout",
     "output_type": "stream",
     "text": [
      "73.3567142734951\n",
      "127.83377150845156\n",
      "73.68770053168087\n",
      "127.99714767504028\n"
     ]
    }
   ],
   "source": [
    "from sklearn.linear_model import Ridge, Lasso\n",
    "from sklearn.metrics import mean_squared_error, mean_absolute_error, explained_variance_score\n",
    "clf = Ridge()\n",
    "clf2 =Lasso()\n",
    "y_pred = clf.fit(X_train, y_train).predict(X_test)\n",
    "y_pred2=clf2.fit(X_train, y_train).predict(X_test)\n",
    "rmse_ridge_test = np.sqrt(mean_squared_error(y_test, y_pred))\n",
    "mae_ridge_train = mean_absolute_error(y_test, y_pred)\n",
    "rmse_lasso_test = np.sqrt(mean_squared_error(y_test, y_pred2))\n",
    "mae_lasso_train = mean_absolute_error(y_test, y_pred2)\n",
    "print(mae_ridge_train)\n",
    "print(rmse_ridge_test)\n",
    "print(mae_lasso_train)\n",
    "print(rmse_lasso_test)"
   ]
  },
  {
   "cell_type": "code",
   "execution_count": 4,
   "metadata": {},
   "outputs": [
    {
     "name": "stderr",
     "output_type": "stream",
     "text": [
      "C:\\Users\\akabo\\Anaconda3\\lib\\site-packages\\sklearn\\utils\\validation.py:475: DataConversionWarning: Data with input dtype int64 was converted to float64 by StandardScaler.\n",
      "  warnings.warn(msg, DataConversionWarning)\n",
      "C:\\Users\\akabo\\Anaconda3\\lib\\site-packages\\sklearn\\utils\\validation.py:475: DataConversionWarning: Data with input dtype int64 was converted to float64 by StandardScaler.\n",
      "  warnings.warn(msg, DataConversionWarning)\n",
      "C:\\Users\\akabo\\Anaconda3\\lib\\site-packages\\sklearn\\utils\\validation.py:475: DataConversionWarning: Data with input dtype int64 was converted to float64 by StandardScaler.\n",
      "  warnings.warn(msg, DataConversionWarning)\n"
     ]
    }
   ],
   "source": [
    "from sklearn.preprocessing import StandardScaler\n",
    "from sklearn.feature_selection import SelectFromModel\n",
    "\n",
    "sc=StandardScaler()\n",
    "sc.fit(X_train)\n",
    "X_train_std=sc.transform(X_train)\n",
    "X_test_std=sc.transform(X_test)"
   ]
  },
  {
   "cell_type": "code",
   "execution_count": null,
   "metadata": {},
   "outputs": [],
   "source": [
    "# GridSearchCV: a) linear regression b)k-NN c)regression tree\n",
    "from sklearn import neighbors, datasets\n",
    "from sklearn.tree import DecisionTreeRegressor\n",
    "from sklearn.model_selection import GridSearchCV\n",
    "from sklearn.linear_model import Lasso # Lasso Regression class\n",
    "from sklearn.linear_model import Ridge # Ridge Regression class\n",
    "from sklearn.linear_model import LinearRegression\n",
    "from sklearn.linear_model import LogisticRegression \n",
    "from sklearn.model_selection import cross_val_score\n",
    "gs_ridge = GridSearchCV(estimator=Ridge(random_state = 42),\n",
    "                      param_grid=[{'alpha': [ 0.00001, 0.0001, 0.001, 0.01, 0.1, 1, 10, \n",
    "                                             100, 1000, 10000, 100000, 1000000, 10000000]}],\n",
    "                      scoring='neg_mean_squared_error',\n",
    "                      cv=10, n_jobs=4)\n",
    "\n",
    "gs_ridge = gs_ridge.fit(X_train,y_train)\n",
    "\n",
    "print(gs_ridge.best_estimator_)\n",
    "print('Best MSE: %.2f\\n'% abs(gs_ridge.best_score_))\n"
   ]
  },
  {
   "cell_type": "code",
   "execution_count": 7,
   "metadata": {},
   "outputs": [
    {
     "name": "stdout",
     "output_type": "stream",
     "text": [
      "Lasso(alpha=0.1, copy_X=True, fit_intercept=True, max_iter=1000,\n",
      "   normalize=False, positive=False, precompute=False, random_state=42,\n",
      "   selection='cyclic', tol=0.0001, warm_start=False)\n",
      "Best MSE: 16349.28 \n",
      "\n",
      "[-1.15537913e+00  4.19728502e+01 -3.69566759e+01 -2.11137291e+00\n",
      " -1.72358265e+01 -7.87402586e-01 -8.99829649e+00  1.21886477e+01\n",
      " -9.04305390e+01  3.85404972e+01 -4.73356556e+00  3.82222838e+00\n",
      "  3.88378712e+01 -1.13415656e+00  0.00000000e+00  2.09315847e+01\n",
      "  8.74602323e+01 -1.59199596e-02  7.83782680e-03  1.29817901e+01\n",
      " -1.17232651e+00 -6.60785327e+01]\n",
      "Ridge(alpha=10, copy_X=True, fit_intercept=True, max_iter=None,\n",
      "   normalize=False, random_state=42, solver='auto', tol=0.001)\n",
      "Best MSE: 16345.25\n",
      "\n",
      "KNeighborsRegressor(algorithm='auto', leaf_size=30, metric='minkowski',\n",
      "          metric_params=None, n_jobs=1, n_neighbors=10, p=2,\n",
      "          weights='distance')\n",
      "Best MSE: 21083.08\n",
      "\n",
      "DecisionTreeRegressor(criterion='mse', max_depth=9, max_features=None,\n",
      "           max_leaf_nodes=16, min_impurity_decrease=0.0,\n",
      "           min_impurity_split=None, min_samples_leaf=50,\n",
      "           min_samples_split=2, min_weight_fraction_leaf=0.0,\n",
      "           presort=False, random_state=42, splitter='best')\n",
      "Best MSE: 20748.95\n",
      "\n"
     ]
    }
   ],
   "source": [
    "np.random.seed(42)\n",
    "\n",
    "# a1) Lasso regression\n",
    "gs_lasso = GridSearchCV(estimator=Lasso(random_state = 42),\n",
    "                      param_grid=[{'alpha': [ 0.00001, 0.0001, 0.001, 0.01, 0.1, 1, 10, \n",
    "                                             100, 1000, 10000, 100000, 1000000, 10000000]}],\n",
    "                      scoring='neg_mean_squared_error',\n",
    "                      cv=10, n_jobs=4)\n",
    "\n",
    "gs_lasso = gs_lasso.fit(X_train,y_train)\n",
    "\n",
    "print(gs_lasso.best_estimator_)\n",
    "print('Best MSE: %.2f \\n'% abs(gs_lasso.best_score_))\n",
    "Lasso=Lasso(alpha=0.1, copy_X=True, fit_intercept=True, max_iter=1000,\n",
    "   normalize=False, positive=False, precompute=False, random_state=42,\n",
    "   selection='cyclic', tol=0.0001, warm_start=False)\n",
    "Lasso.fit(X_train,y_train)\n",
    "print(Lasso.coef_)\n",
    "# a2) Ridge regression\n",
    "gs_ridge = GridSearchCV(estimator=Ridge(random_state = 42),\n",
    "                      param_grid=[{'alpha': [ 0.00001, 0.0001, 0.001, 0.01, 0.1, 1, 10, \n",
    "                                             100, 1000, 10000, 100000, 1000000, 10000000]}],\n",
    "                      scoring='neg_mean_squared_error',\n",
    "                      cv=10, n_jobs=4)\n",
    "\n",
    "gs_ridge = gs_ridge.fit(X_train,y_train)\n",
    "\n",
    "print(gs_ridge.best_estimator_)\n",
    "print('Best MSE: %.2f\\n'% abs(gs_ridge.best_score_))\n",
    "\n",
    "# b) kNN regression\n",
    "sc = StandardScaler()\n",
    "sc.fit(X_train)\n",
    "X_train_std = sc.transform(X_train)\n",
    "X_test_std = sc.transform(X_test)\n",
    "\n",
    "gs_knn = GridSearchCV(estimator=neighbors.KNeighborsRegressor(p=2, metric='minkowski',\n",
    "                                                             weights='distance'),\n",
    "                      param_grid = [{'n_neighbors': range(1, 30, 1)}],\n",
    "                      scoring='neg_mean_squared_error',\n",
    "                      cv=10, n_jobs=4)\n",
    "gs_knn = gs_knn.fit(X_train_std, y_train)\n",
    "print(gs_knn.best_estimator_)\n",
    "print('Best MSE: %.2f\\n'% abs(gs_knn.best_score_))\n",
    "\n",
    "# c) regression tree\n",
    "gs_tree = GridSearchCV(estimator=DecisionTreeRegressor(random_state=42),\n",
    "                       param_grid = [{'max_depth': range(3,12,1),\n",
    "                                     'min_samples_leaf':[50,100,200],\n",
    "                                     'max_leaf_nodes': range(8,26,2)}],\n",
    "                       scoring='neg_mean_squared_error',\n",
    "                       cv=10, n_jobs=4)\n",
    "gs_tree = gs_tree.fit(X_train, y_train)\n",
    "print(gs_tree.best_estimator_)\n",
    "print('Best MSE: %.2f\\n'% abs(gs_tree.best_score_))"
   ]
  },
  {
   "cell_type": "code",
   "execution_count": null,
   "metadata": {},
   "outputs": [],
   "source": []
  },
  {
   "cell_type": "code",
   "execution_count": 37,
   "metadata": {},
   "outputs": [
    {
     "data": {
      "text/plain": [
       "127.75030294001854"
      ]
     },
     "execution_count": 37,
     "metadata": {},
     "output_type": "execute_result"
    }
   ],
   "source": [
    "from sklearn.metrics import mean_squared_error, mean_absolute_error, explained_variance_score\n",
    "\n",
    "# a1) Lasso regression\n",
    "lasso = gs_lasso.fit(X_train, y_train)\n",
    "\n",
    "y_pred_lasso_train = lasso.predict(X_train)\n",
    "y_pred_lasso_test = lasso.predict(X_test)\n",
    "\n",
    "rmse_l_train = np.sqrt(mean_squared_error(y_train, y_pred_lasso_train))\n",
    "rmse_l_test = np.sqrt(mean_squared_error(y_test, y_pred_lasso_test))\n",
    "\n",
    "mae_l_train=mean_absolute_error(y_train, y_pred_lasso_train) \n",
    "mae_l_test=mean_absolute_error(y_train, y_pred_lasso_train) \n",
    "\n",
    "evs_l_train=explained_variance_score(y_train, y_pred_lasso_train)\n",
    "evs_l_test=explained_variance_score(y_train, y_pred_lasso_train)\n",
    "\n",
    "rmse_l_test\n",
    "\n",
    "\n",
    "\n",
    "\n"
   ]
  },
  {
   "cell_type": "code",
   "execution_count": 39,
   "metadata": {},
   "outputs": [
    {
     "data": {
      "text/plain": [
       "127.89242722325126"
      ]
     },
     "execution_count": 39,
     "metadata": {},
     "output_type": "execute_result"
    }
   ],
   "source": [
    "# a2) Ridge regression\n",
    "ridge = gs_ridge.fit(X_train, y_train)\n",
    "\n",
    "y_pred_ridge_train = ridge.predict(X_train)\n",
    "y_pred_ridge_test = ridge.predict(X_test)\n",
    "\n",
    "rmse_2_train = np.sqrt(mean_squared_error(y_train, y_pred_ridge_train))\n",
    "rmse_2_test = np.sqrt(mean_squared_error(y_test, y_pred_ridge_test))\n",
    "\n",
    "mae_2_train=mean_absolute_error(y_train, y_pred_ridge_train) \n",
    "mae_2_test=mean_absolute_error(y_train, y_pred_ridge_train) \n",
    "\n",
    "evs_2_train=explained_variance_score(y_train, y_pred_ridge_train)\n",
    "evs_2_test=explained_variance_score(y_train, y_pred_ridge_train)\n",
    "\n",
    "rmse_2_test"
   ]
  },
  {
   "cell_type": "code",
   "execution_count": 40,
   "metadata": {},
   "outputs": [
    {
     "data": {
      "text/plain": [
       "163.11972735121552"
      ]
     },
     "execution_count": 40,
     "metadata": {},
     "output_type": "execute_result"
    }
   ],
   "source": [
    "# b) kNN regression\n",
    "knn = gs_knn.fit(X_train, y_train)\n",
    "\n",
    "y_pred_knn_train = knn.predict(X_train)\n",
    "y_pred_knn_test = knn.predict(X_test)\n",
    "\n",
    "rmse_3_train = np.sqrt(mean_squared_error(y_train, y_pred_knn_train))\n",
    "rmse_3_test = np.sqrt(mean_squared_error(y_test, y_pred_knn_test))\n",
    "\n",
    "mae_3_train=mean_absolute_error(y_train, y_pred_knn_train) \n",
    "mae_3_test=mean_absolute_error(y_train, y_pred_knn_train) \n",
    "\n",
    "evs_3_train=explained_variance_score(y_train, y_pred_knn_train)\n",
    "evs_3_test=explained_variance_score(y_train, y_pred_knn_train)\n",
    "\n",
    "rmse_3_test\n"
   ]
  },
  {
   "cell_type": "code",
   "execution_count": 42,
   "metadata": {},
   "outputs": [
    {
     "data": {
      "text/plain": [
       "133.3141608701681"
      ]
     },
     "execution_count": 42,
     "metadata": {},
     "output_type": "execute_result"
    }
   ],
   "source": [
    "# c) regression tree\n",
    "tree = gs_tree.fit(X_train, y_train)\n",
    "\n",
    "y_pred_tree_train = tree.predict(X_train)\n",
    "y_pred_tree_test = tree.predict(X_test)\n",
    "\n",
    "rmse_4_train = np.sqrt(mean_squared_error(y_train, y_pred_tree_train))\n",
    "rmse_4_test = np.sqrt(mean_squared_error(y_test, y_pred_tree_test))\n",
    "\n",
    "mae_4_train=mean_absolute_error(y_train, y_pred_tree_train) \n",
    "mae_4_test=mean_absolute_error(y_train, y_pred_tree_train) \n",
    "\n",
    "evs_4_train=explained_variance_score(y_train, y_pred_tree_train)\n",
    "evs_4_test=explained_variance_score(y_train, y_pred_tree_train)\n",
    "\n",
    "rmse_4_test"
   ]
  },
  {
   "cell_type": "code",
   "execution_count": null,
   "metadata": {},
   "outputs": [],
   "source": []
  }
 ],
 "metadata": {
  "kernelspec": {
   "display_name": "Python 3",
   "language": "python",
   "name": "python3"
  },
  "language_info": {
   "codemirror_mode": {
    "name": "ipython",
    "version": 3
   },
   "file_extension": ".py",
   "mimetype": "text/x-python",
   "name": "python",
   "nbconvert_exporter": "python",
   "pygments_lexer": "ipython3",
   "version": "3.6.5"
  }
 },
 "nbformat": 4,
 "nbformat_minor": 2
}
